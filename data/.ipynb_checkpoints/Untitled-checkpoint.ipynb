{
 "cells": [
  {
   "cell_type": "code",
   "execution_count": 23,
   "id": "a42f9a7d",
   "metadata": {},
   "outputs": [],
   "source": [
    "import pandas as pd\n",
    "import plotly.graph_objects as go\n",
    "import numpy as np"
   ]
  },
  {
   "cell_type": "code",
   "execution_count": 20,
   "id": "927a8f96",
   "metadata": {},
   "outputs": [
    {
     "data": {
      "text/html": [
       "<div>\n",
       "<style scoped>\n",
       "    .dataframe tbody tr th:only-of-type {\n",
       "        vertical-align: middle;\n",
       "    }\n",
       "\n",
       "    .dataframe tbody tr th {\n",
       "        vertical-align: top;\n",
       "    }\n",
       "\n",
       "    .dataframe thead th {\n",
       "        text-align: right;\n",
       "    }\n",
       "</style>\n",
       "<table border=\"1\" class=\"dataframe\">\n",
       "  <thead>\n",
       "    <tr style=\"text-align: right;\">\n",
       "      <th></th>\n",
       "      <th>id</th>\n",
       "      <th>designacao</th>\n",
       "      <th>area</th>\n",
       "      <th>subarea</th>\n",
       "      <th>dimensao</th>\n",
       "    </tr>\n",
       "  </thead>\n",
       "  <tbody>\n",
       "    <tr>\n",
       "      <th>0</th>\n",
       "      <td>1</td>\n",
       "      <td>Proporção de consultas realizadas pelo respeti...</td>\n",
       "      <td>Desempenho</td>\n",
       "      <td>Acesso</td>\n",
       "      <td>Personalização</td>\n",
       "    </tr>\n",
       "    <tr>\n",
       "      <th>2</th>\n",
       "      <td>3</td>\n",
       "      <td>Taxa de consultas médicas no domicílio por 1.0...</td>\n",
       "      <td>Desempenho</td>\n",
       "      <td>Acesso</td>\n",
       "      <td>Cobertura ou Utilização</td>\n",
       "    </tr>\n",
       "    <tr>\n",
       "      <th>4</th>\n",
       "      <td>5</td>\n",
       "      <td>Proporção de consultas realizadas pelo respeti...</td>\n",
       "      <td>Desempenho</td>\n",
       "      <td>Acesso</td>\n",
       "      <td>Personalização</td>\n",
       "    </tr>\n",
       "    <tr>\n",
       "      <th>5</th>\n",
       "      <td>6</td>\n",
       "      <td>Taxa de utilização global de consultas médicas...</td>\n",
       "      <td>Desempenho</td>\n",
       "      <td>Acesso</td>\n",
       "      <td>Cobertura ou Utilização</td>\n",
       "    </tr>\n",
       "    <tr>\n",
       "      <th>7</th>\n",
       "      <td>8</td>\n",
       "      <td>Taxa de utilização de consultas de planeamento...</td>\n",
       "      <td>Desempenho</td>\n",
       "      <td>Gestão da Saúde</td>\n",
       "      <td>Saúde da Mulher</td>\n",
       "    </tr>\n",
       "    <tr>\n",
       "      <th>10</th>\n",
       "      <td>11</td>\n",
       "      <td>Proporção de grávidas com 1ª consulta médica d...</td>\n",
       "      <td>Desempenho</td>\n",
       "      <td>Gestão da Saúde</td>\n",
       "      <td>Saúde da Mulher</td>\n",
       "    </tr>\n",
       "    <tr>\n",
       "      <th>17</th>\n",
       "      <td>18</td>\n",
       "      <td>Proporção de utentes com hipertensão arterial,...</td>\n",
       "      <td>Desempenho</td>\n",
       "      <td>Gestão da Doença</td>\n",
       "      <td>Hipertensão Arterial</td>\n",
       "    </tr>\n",
       "    <tr>\n",
       "      <th>19</th>\n",
       "      <td>20</td>\n",
       "      <td>Proporção de utentes com hipertensão arterial,...</td>\n",
       "      <td>Desempenho</td>\n",
       "      <td>Gestão da Doença</td>\n",
       "      <td>Hipertensão Arterial</td>\n",
       "    </tr>\n",
       "    <tr>\n",
       "      <th>22</th>\n",
       "      <td>23</td>\n",
       "      <td>Proporção de utentes com hipertensão arterial ...</td>\n",
       "      <td>Desempenho</td>\n",
       "      <td>Gestão da Doença</td>\n",
       "      <td>Hipertensão Arterial</td>\n",
       "    </tr>\n",
       "    <tr>\n",
       "      <th>29</th>\n",
       "      <td>30</td>\n",
       "      <td>Proporção de utentes com diabetes ou com doenç...</td>\n",
       "      <td>Desempenho</td>\n",
       "      <td>Gestão da Saúde</td>\n",
       "      <td>Saúde do Idoso</td>\n",
       "    </tr>\n",
       "    <tr>\n",
       "      <th>33</th>\n",
       "      <td>34</td>\n",
       "      <td>Proporção de utentes obesos e com idade igual ...</td>\n",
       "      <td>Desempenho</td>\n",
       "      <td>Gestão da Saúde</td>\n",
       "      <td>Saúde do Adulto</td>\n",
       "    </tr>\n",
       "    <tr>\n",
       "      <th>35</th>\n",
       "      <td>36</td>\n",
       "      <td>Proporção de utentes com diabetes, com registo...</td>\n",
       "      <td>Desempenho</td>\n",
       "      <td>Gestão da Doença</td>\n",
       "      <td>Diabetes Mellitus</td>\n",
       "    </tr>\n",
       "    <tr>\n",
       "      <th>36</th>\n",
       "      <td>37</td>\n",
       "      <td>Proporção de utentes com diabetes, com consult...</td>\n",
       "      <td>Desempenho</td>\n",
       "      <td>Gestão da Doença</td>\n",
       "      <td>Diabetes Mellitus</td>\n",
       "    </tr>\n",
       "    <tr>\n",
       "      <th>38</th>\n",
       "      <td>39</td>\n",
       "      <td>Proporção de utentes com diabetes, com o últim...</td>\n",
       "      <td>Desempenho</td>\n",
       "      <td>Gestão da Doença</td>\n",
       "      <td>Diabetes Mellitus</td>\n",
       "    </tr>\n",
       "    <tr>\n",
       "      <th>44</th>\n",
       "      <td>45</td>\n",
       "      <td>Proporção de mulheres entre 25-60 anos, com ra...</td>\n",
       "      <td>Desempenho</td>\n",
       "      <td>Gestão da Saúde</td>\n",
       "      <td>Saúde da Mulher</td>\n",
       "    </tr>\n",
       "    <tr>\n",
       "      <th>45</th>\n",
       "      <td>46</td>\n",
       "      <td>Proporção de utentes com idade entre [50; 75[ ...</td>\n",
       "      <td>Desempenho</td>\n",
       "      <td>Gestão da Saúde</td>\n",
       "      <td>Saúde do Adulto</td>\n",
       "    </tr>\n",
       "    <tr>\n",
       "      <th>48</th>\n",
       "      <td>49</td>\n",
       "      <td>Proporção de utentes com DPOC, com pelo menos ...</td>\n",
       "      <td>Desempenho</td>\n",
       "      <td>Gestão da Doença</td>\n",
       "      <td>Doenças Aparelho Respiratório</td>\n",
       "    </tr>\n",
       "    <tr>\n",
       "      <th>52</th>\n",
       "      <td>53</td>\n",
       "      <td>Proporção de utentes com idade igual ou superi...</td>\n",
       "      <td>Desempenho</td>\n",
       "      <td>Gestão da Saúde</td>\n",
       "      <td>Saúde do Adulto</td>\n",
       "    </tr>\n",
       "    <tr>\n",
       "      <th>53</th>\n",
       "      <td>54</td>\n",
       "      <td>Proporção de utentes com 14 ou mais anos e com...</td>\n",
       "      <td>Desempenho</td>\n",
       "      <td>Gestão da Saúde</td>\n",
       "      <td>Saúde do Adulto</td>\n",
       "    </tr>\n",
       "    <tr>\n",
       "      <th>62</th>\n",
       "      <td>63</td>\n",
       "      <td>Proporção de crianças com 7 anos, com consulta...</td>\n",
       "      <td>Desempenho</td>\n",
       "      <td>Gestão da Saúde</td>\n",
       "      <td>Saúde Infantil e Juvenil</td>\n",
       "    </tr>\n",
       "    <tr>\n",
       "      <th>93</th>\n",
       "      <td>95</td>\n",
       "      <td>Proporção de jovens com 14 anos, com PNV cumpr...</td>\n",
       "      <td>Desempenho</td>\n",
       "      <td>Gestão da Saúde</td>\n",
       "      <td>Saúde Infantil e Juvenil</td>\n",
       "    </tr>\n",
       "    <tr>\n",
       "      <th>96</th>\n",
       "      <td>98</td>\n",
       "      <td>Proporção de utentes com 25 ou mais anos, que ...</td>\n",
       "      <td>Desempenho</td>\n",
       "      <td>Gestão da Saúde</td>\n",
       "      <td>Saúde do Adulto</td>\n",
       "    </tr>\n",
       "    <tr>\n",
       "      <th>97</th>\n",
       "      <td>99</td>\n",
       "      <td>Taxa de utilização global de consultas de enfe...</td>\n",
       "      <td>Desempenho</td>\n",
       "      <td>Acesso</td>\n",
       "      <td>Cobertura ou Utilização</td>\n",
       "    </tr>\n",
       "    <tr>\n",
       "      <th>242</th>\n",
       "      <td>255</td>\n",
       "      <td>Proporção de quinolonas entre antibióticos fat...</td>\n",
       "      <td>Desempenho</td>\n",
       "      <td>Qualificação da Prescrição</td>\n",
       "      <td>Prescrição Farmacoterapêutica</td>\n",
       "    </tr>\n",
       "    <tr>\n",
       "      <th>244</th>\n",
       "      <td>257</td>\n",
       "      <td>Proporção de cefalosporinas entre antibióticos...</td>\n",
       "      <td>Desempenho</td>\n",
       "      <td>Qualificação da Prescrição</td>\n",
       "      <td>Prescrição Farmacoterapêutica</td>\n",
       "    </tr>\n",
       "    <tr>\n",
       "      <th>246</th>\n",
       "      <td>259</td>\n",
       "      <td>Proporção de inibidores da COX-2 entre anti-in...</td>\n",
       "      <td>Desempenho</td>\n",
       "      <td>Qualificação da Prescrição</td>\n",
       "      <td>Prescrição Farmacoterapêutica</td>\n",
       "    </tr>\n",
       "    <tr>\n",
       "      <th>248</th>\n",
       "      <td>261</td>\n",
       "      <td>Proporção de utentes com diabetes, com avaliaç...</td>\n",
       "      <td>Desempenho</td>\n",
       "      <td>Gestão da Doença</td>\n",
       "      <td>Diabetes Mellitus</td>\n",
       "    </tr>\n",
       "    <tr>\n",
       "      <th>249</th>\n",
       "      <td>262</td>\n",
       "      <td>Proporção de utentes com determinação de risco...</td>\n",
       "      <td>Desempenho</td>\n",
       "      <td>Gestão da Saúde</td>\n",
       "      <td>Saúde do Adulto</td>\n",
       "    </tr>\n",
       "    <tr>\n",
       "      <th>256</th>\n",
       "      <td>269</td>\n",
       "      <td>Índice de acompanhamento adequado em saúde inf...</td>\n",
       "      <td>Desempenho</td>\n",
       "      <td>Gestão da Saúde</td>\n",
       "      <td>Saúde Infantil e Juvenil</td>\n",
       "    </tr>\n",
       "    <tr>\n",
       "      <th>261</th>\n",
       "      <td>274</td>\n",
       "      <td>Proporção de utentes com diabetes tipo 2 e ind...</td>\n",
       "      <td>Desempenho</td>\n",
       "      <td>Gestão da Doença</td>\n",
       "      <td>Diabetes Mellitus</td>\n",
       "    </tr>\n",
       "    <tr>\n",
       "      <th>262</th>\n",
       "      <td>275</td>\n",
       "      <td>Proporção de utentes com novo diagnóstico diab...</td>\n",
       "      <td>Desempenho</td>\n",
       "      <td>Gestão da Doença</td>\n",
       "      <td>Diabetes Mellitus</td>\n",
       "    </tr>\n",
       "    <tr>\n",
       "      <th>263</th>\n",
       "      <td>276</td>\n",
       "      <td>Rácio entre o somatório de DDD prescrita em in...</td>\n",
       "      <td>Desempenho</td>\n",
       "      <td>Qualificação da Prescrição</td>\n",
       "      <td>Prescrição Farmacoterapêutica</td>\n",
       "    </tr>\n",
       "    <tr>\n",
       "      <th>281</th>\n",
       "      <td>294</td>\n",
       "      <td>Taxa de consultas de enfermagem no domicílio p...</td>\n",
       "      <td>Desempenho</td>\n",
       "      <td>Gestão da Saúde</td>\n",
       "      <td>Saúde do Idoso</td>\n",
       "    </tr>\n",
       "    <tr>\n",
       "      <th>282</th>\n",
       "      <td>295</td>\n",
       "      <td>Proporção de puérperas com 5 ou mais consultas...</td>\n",
       "      <td>Desempenho</td>\n",
       "      <td>Gestão da Saúde</td>\n",
       "      <td>Saúde da Mulher</td>\n",
       "    </tr>\n",
       "    <tr>\n",
       "      <th>284</th>\n",
       "      <td>297</td>\n",
       "      <td>Proporção de utentes com idade igual ou superi...</td>\n",
       "      <td>Desempenho</td>\n",
       "      <td>Gestão da Saúde</td>\n",
       "      <td>Saúde do Idoso</td>\n",
       "    </tr>\n",
       "    <tr>\n",
       "      <th>287</th>\n",
       "      <td>300</td>\n",
       "      <td>Nº médio de prescrições de consulta de fisiatr...</td>\n",
       "      <td>Desempenho</td>\n",
       "      <td>Qualificação da Prescrição</td>\n",
       "      <td>Prescrição MCDT</td>\n",
       "    </tr>\n",
       "    <tr>\n",
       "      <th>289</th>\n",
       "      <td>302</td>\n",
       "      <td>Índice de acompanhamento adequado em saúde inf...</td>\n",
       "      <td>Desempenho</td>\n",
       "      <td>Gestão da Saúde</td>\n",
       "      <td>Saúde Infantil e Juvenil</td>\n",
       "    </tr>\n",
       "    <tr>\n",
       "      <th>293</th>\n",
       "      <td>306</td>\n",
       "      <td>Proporção de utentes consultados nos últimos 1...</td>\n",
       "      <td>Desempenho</td>\n",
       "      <td>Gestão da Saúde</td>\n",
       "      <td>Saúde do Adulto</td>\n",
       "    </tr>\n",
       "    <tr>\n",
       "      <th>295</th>\n",
       "      <td>308</td>\n",
       "      <td>Proporção de grávidas que realizaram, pelo men...</td>\n",
       "      <td>Desempenho</td>\n",
       "      <td>Gestão da Saúde</td>\n",
       "      <td>Saúde da Mulher</td>\n",
       "    </tr>\n",
       "    <tr>\n",
       "      <th>297</th>\n",
       "      <td>310</td>\n",
       "      <td>Índice de realização de exames laboratoriais d...</td>\n",
       "      <td>Desempenho</td>\n",
       "      <td>Gestão da Saúde</td>\n",
       "      <td>Saúde da Mulher</td>\n",
       "    </tr>\n",
       "    <tr>\n",
       "      <th>298</th>\n",
       "      <td>311</td>\n",
       "      <td>Índice de realização de exames laboratoriais d...</td>\n",
       "      <td>Desempenho</td>\n",
       "      <td>Gestão da Saúde</td>\n",
       "      <td>Saúde da Mulher</td>\n",
       "    </tr>\n",
       "    <tr>\n",
       "      <th>299</th>\n",
       "      <td>312</td>\n",
       "      <td>Índice de realização de exames laboratoriais d...</td>\n",
       "      <td>Desempenho</td>\n",
       "      <td>Gestão da Saúde</td>\n",
       "      <td>Saúde da Mulher</td>\n",
       "    </tr>\n",
       "    <tr>\n",
       "      <th>301</th>\n",
       "      <td>314</td>\n",
       "      <td>Proporção de utentes com diabetes com valor da...</td>\n",
       "      <td>Desempenho</td>\n",
       "      <td>Gestão da Doença</td>\n",
       "      <td>Diabetes Mellitus</td>\n",
       "    </tr>\n",
       "    <tr>\n",
       "      <th>302</th>\n",
       "      <td>315</td>\n",
       "      <td>Proporção de utentes com diabetes com resultad...</td>\n",
       "      <td>Desempenho</td>\n",
       "      <td>Gestão da Doença</td>\n",
       "      <td>Diabetes Mellitus</td>\n",
       "    </tr>\n",
       "    <tr>\n",
       "      <th>317</th>\n",
       "      <td>330</td>\n",
       "      <td>Índice de utilização dimensionado à estimativa...</td>\n",
       "      <td>Desempenho</td>\n",
       "      <td>Acesso</td>\n",
       "      <td>Cobertura ou Utilização</td>\n",
       "    </tr>\n",
       "    <tr>\n",
       "      <th>318</th>\n",
       "      <td>331</td>\n",
       "      <td>Índice de utilização dimensionado à estimativa...</td>\n",
       "      <td>Desempenho</td>\n",
       "      <td>Acesso</td>\n",
       "      <td>Cobertura ou Utilização</td>\n",
       "    </tr>\n",
       "    <tr>\n",
       "      <th>322</th>\n",
       "      <td>335</td>\n",
       "      <td>Proporção de consultas não presenciais com rec...</td>\n",
       "      <td>Desempenho</td>\n",
       "      <td>Acesso</td>\n",
       "      <td>Tempos Máximos de Resposta Garantidos</td>\n",
       "    </tr>\n",
       "    <tr>\n",
       "      <th>326</th>\n",
       "      <td>339</td>\n",
       "      <td>Taxa anual ajustada de episódios de urgência h...</td>\n",
       "      <td>Desempenho</td>\n",
       "      <td>Acesso</td>\n",
       "      <td>Consulta no Próprio Dia</td>\n",
       "    </tr>\n",
       "    <tr>\n",
       "      <th>328</th>\n",
       "      <td>341</td>\n",
       "      <td>Despesa média (PVP) de medicamentos prescritos...</td>\n",
       "      <td>Desempenho</td>\n",
       "      <td>Qualificação da Prescrição</td>\n",
       "      <td>Prescrição Farmacoterapêutica</td>\n",
       "    </tr>\n",
       "    <tr>\n",
       "      <th>329</th>\n",
       "      <td>342</td>\n",
       "      <td>Proporção de consultas médicas por iniciativa ...</td>\n",
       "      <td>Desempenho</td>\n",
       "      <td>Acesso</td>\n",
       "      <td>Tempos Máximos de Resposta Garantidos</td>\n",
       "    </tr>\n",
       "  </tbody>\n",
       "</table>\n",
       "</div>"
      ],
      "text/plain": [
       "      id                                         designacao        area  \\\n",
       "0      1  Proporção de consultas realizadas pelo respeti...  Desempenho   \n",
       "2      3  Taxa de consultas médicas no domicílio por 1.0...  Desempenho   \n",
       "4      5  Proporção de consultas realizadas pelo respeti...  Desempenho   \n",
       "5      6  Taxa de utilização global de consultas médicas...  Desempenho   \n",
       "7      8  Taxa de utilização de consultas de planeamento...  Desempenho   \n",
       "10    11  Proporção de grávidas com 1ª consulta médica d...  Desempenho   \n",
       "17    18  Proporção de utentes com hipertensão arterial,...  Desempenho   \n",
       "19    20  Proporção de utentes com hipertensão arterial,...  Desempenho   \n",
       "22    23  Proporção de utentes com hipertensão arterial ...  Desempenho   \n",
       "29    30  Proporção de utentes com diabetes ou com doenç...  Desempenho   \n",
       "33    34  Proporção de utentes obesos e com idade igual ...  Desempenho   \n",
       "35    36  Proporção de utentes com diabetes, com registo...  Desempenho   \n",
       "36    37  Proporção de utentes com diabetes, com consult...  Desempenho   \n",
       "38    39  Proporção de utentes com diabetes, com o últim...  Desempenho   \n",
       "44    45  Proporção de mulheres entre 25-60 anos, com ra...  Desempenho   \n",
       "45    46  Proporção de utentes com idade entre [50; 75[ ...  Desempenho   \n",
       "48    49  Proporção de utentes com DPOC, com pelo menos ...  Desempenho   \n",
       "52    53  Proporção de utentes com idade igual ou superi...  Desempenho   \n",
       "53    54  Proporção de utentes com 14 ou mais anos e com...  Desempenho   \n",
       "62    63  Proporção de crianças com 7 anos, com consulta...  Desempenho   \n",
       "93    95  Proporção de jovens com 14 anos, com PNV cumpr...  Desempenho   \n",
       "96    98  Proporção de utentes com 25 ou mais anos, que ...  Desempenho   \n",
       "97    99  Taxa de utilização global de consultas de enfe...  Desempenho   \n",
       "242  255  Proporção de quinolonas entre antibióticos fat...  Desempenho   \n",
       "244  257  Proporção de cefalosporinas entre antibióticos...  Desempenho   \n",
       "246  259  Proporção de inibidores da COX-2 entre anti-in...  Desempenho   \n",
       "248  261  Proporção de utentes com diabetes, com avaliaç...  Desempenho   \n",
       "249  262  Proporção de utentes com determinação de risco...  Desempenho   \n",
       "256  269  Índice de acompanhamento adequado em saúde inf...  Desempenho   \n",
       "261  274  Proporção de utentes com diabetes tipo 2 e ind...  Desempenho   \n",
       "262  275  Proporção de utentes com novo diagnóstico diab...  Desempenho   \n",
       "263  276  Rácio entre o somatório de DDD prescrita em in...  Desempenho   \n",
       "281  294  Taxa de consultas de enfermagem no domicílio p...  Desempenho   \n",
       "282  295  Proporção de puérperas com 5 ou mais consultas...  Desempenho   \n",
       "284  297  Proporção de utentes com idade igual ou superi...  Desempenho   \n",
       "287  300  Nº médio de prescrições de consulta de fisiatr...  Desempenho   \n",
       "289  302  Índice de acompanhamento adequado em saúde inf...  Desempenho   \n",
       "293  306  Proporção de utentes consultados nos últimos 1...  Desempenho   \n",
       "295  308  Proporção de grávidas que realizaram, pelo men...  Desempenho   \n",
       "297  310  Índice de realização de exames laboratoriais d...  Desempenho   \n",
       "298  311  Índice de realização de exames laboratoriais d...  Desempenho   \n",
       "299  312  Índice de realização de exames laboratoriais d...  Desempenho   \n",
       "301  314  Proporção de utentes com diabetes com valor da...  Desempenho   \n",
       "302  315  Proporção de utentes com diabetes com resultad...  Desempenho   \n",
       "317  330  Índice de utilização dimensionado à estimativa...  Desempenho   \n",
       "318  331  Índice de utilização dimensionado à estimativa...  Desempenho   \n",
       "322  335  Proporção de consultas não presenciais com rec...  Desempenho   \n",
       "326  339  Taxa anual ajustada de episódios de urgência h...  Desempenho   \n",
       "328  341  Despesa média (PVP) de medicamentos prescritos...  Desempenho   \n",
       "329  342  Proporção de consultas médicas por iniciativa ...  Desempenho   \n",
       "\n",
       "                        subarea                               dimensao  \n",
       "0                        Acesso                         Personalização  \n",
       "2                        Acesso                Cobertura ou Utilização  \n",
       "4                        Acesso                         Personalização  \n",
       "5                        Acesso                Cobertura ou Utilização  \n",
       "7               Gestão da Saúde                        Saúde da Mulher  \n",
       "10              Gestão da Saúde                        Saúde da Mulher  \n",
       "17             Gestão da Doença                   Hipertensão Arterial  \n",
       "19             Gestão da Doença                   Hipertensão Arterial  \n",
       "22             Gestão da Doença                   Hipertensão Arterial  \n",
       "29              Gestão da Saúde                         Saúde do Idoso  \n",
       "33              Gestão da Saúde                        Saúde do Adulto  \n",
       "35             Gestão da Doença                      Diabetes Mellitus  \n",
       "36             Gestão da Doença                      Diabetes Mellitus  \n",
       "38             Gestão da Doença                      Diabetes Mellitus  \n",
       "44              Gestão da Saúde                        Saúde da Mulher  \n",
       "45              Gestão da Saúde                        Saúde do Adulto  \n",
       "48             Gestão da Doença          Doenças Aparelho Respiratório  \n",
       "52              Gestão da Saúde                        Saúde do Adulto  \n",
       "53              Gestão da Saúde                        Saúde do Adulto  \n",
       "62              Gestão da Saúde               Saúde Infantil e Juvenil  \n",
       "93              Gestão da Saúde               Saúde Infantil e Juvenil  \n",
       "96              Gestão da Saúde                        Saúde do Adulto  \n",
       "97                       Acesso                Cobertura ou Utilização  \n",
       "242  Qualificação da Prescrição          Prescrição Farmacoterapêutica  \n",
       "244  Qualificação da Prescrição          Prescrição Farmacoterapêutica  \n",
       "246  Qualificação da Prescrição          Prescrição Farmacoterapêutica  \n",
       "248            Gestão da Doença                      Diabetes Mellitus  \n",
       "249             Gestão da Saúde                        Saúde do Adulto  \n",
       "256             Gestão da Saúde               Saúde Infantil e Juvenil  \n",
       "261            Gestão da Doença                      Diabetes Mellitus  \n",
       "262            Gestão da Doença                      Diabetes Mellitus  \n",
       "263  Qualificação da Prescrição          Prescrição Farmacoterapêutica  \n",
       "281             Gestão da Saúde                         Saúde do Idoso  \n",
       "282             Gestão da Saúde                        Saúde da Mulher  \n",
       "284             Gestão da Saúde                         Saúde do Idoso  \n",
       "287  Qualificação da Prescrição                        Prescrição MCDT  \n",
       "289             Gestão da Saúde               Saúde Infantil e Juvenil  \n",
       "293             Gestão da Saúde                        Saúde do Adulto  \n",
       "295             Gestão da Saúde                        Saúde da Mulher  \n",
       "297             Gestão da Saúde                        Saúde da Mulher  \n",
       "298             Gestão da Saúde                        Saúde da Mulher  \n",
       "299             Gestão da Saúde                        Saúde da Mulher  \n",
       "301            Gestão da Doença                      Diabetes Mellitus  \n",
       "302            Gestão da Doença                      Diabetes Mellitus  \n",
       "317                      Acesso                Cobertura ou Utilização  \n",
       "318                      Acesso                Cobertura ou Utilização  \n",
       "322                      Acesso  Tempos Máximos de Resposta Garantidos  \n",
       "326                      Acesso                Consulta no Próprio Dia  \n",
       "328  Qualificação da Prescrição          Prescrição Farmacoterapêutica  \n",
       "329                      Acesso  Tempos Máximos de Resposta Garantidos  "
      ]
     },
     "execution_count": 20,
     "metadata": {},
     "output_type": "execute_result"
    }
   ],
   "source": [
    "df_todos_indicadores = pd.read_csv('scrapped_indicadores.csv')\n",
    "usf_ucsp_para_idg = pd.read_csv('usf_ucsp_indicadores_2022_comimpactoIDG.csv')\n",
    "df_todos_indicadores_filtrado = df_todos_indicadores[df_todos_indicadores['id'].isin(usf_ucsp_para_idg['indicador'].values.tolist())]\n",
    "df = df_todos_indicadores_filtrado.drop(columns=['codigo','codigo_siars','nome_abreviado','objetivo','formula','unidade_de_medida', 'output','estado_do_indicador','tipo_de_indicador','area_clinica','inclusao_de_utentes_no_indicador','prazo_para_registos','link'])\n",
    "df.head(50)"
   ]
  },
  {
   "cell_type": "code",
   "execution_count": 26,
   "id": "aef28c62",
   "metadata": {},
   "outputs": [
    {
     "data": {
      "text/plain": [
       "0                    Desempenho\n",
       "376                    Serviços\n",
       "378    Qualidade Organizacional\n",
       "380                    Formação\n",
       "Name: area, dtype: object"
      ]
     },
     "execution_count": 26,
     "metadata": {},
     "output_type": "execute_result"
    }
   ],
   "source": [
    "df.area.drop_duplicates()"
   ]
  },
  {
   "cell_type": "code",
   "execution_count": 27,
   "id": "b2d7fa03",
   "metadata": {},
   "outputs": [
    {
     "data": {
      "text/plain": [
       "0                          Acesso\n",
       "7                 Gestão da Saúde\n",
       "17               Gestão da Doença\n",
       "242    Qualificação da Prescrição\n",
       "376        Serviços Assistenciais\n",
       "377    Serviços não Assistenciais\n",
       "378             Melhoria Contínua\n",
       "380              Formação Interna\n",
       "407                     Segurança\n",
       "409       Centralidade no Cidadão\n",
       "Name: subarea, dtype: object"
      ]
     },
     "execution_count": 27,
     "metadata": {},
     "output_type": "execute_result"
    }
   ],
   "source": [
    "df.subarea.drop_duplicates()"
   ]
  },
  {
   "cell_type": "code",
   "execution_count": 28,
   "id": "16d33a17",
   "metadata": {},
   "outputs": [
    {
     "data": {
      "text/plain": [
       "0                                         Personalização\n",
       "2                                Cobertura ou Utilização\n",
       "7                                        Saúde da Mulher\n",
       "17                                  Hipertensão Arterial\n",
       "29                                        Saúde do Idoso\n",
       "33                                       Saúde do Adulto\n",
       "35                                     Diabetes Mellitus\n",
       "48                         Doenças Aparelho Respiratório\n",
       "62                              Saúde Infantil e Juvenil\n",
       "242                        Prescrição Farmacoterapêutica\n",
       "287                                      Prescrição MCDT\n",
       "322                Tempos Máximos de Resposta Garantidos\n",
       "326                              Consulta no Próprio Dia\n",
       "333        Distribuição das Consultas Presenciais no Dia\n",
       "352           Multimorbilidade e Outros Tipos de Doenças\n",
       "376                               Serviços Assistenciais\n",
       "377                                   Governação Clínica\n",
       "378                                               Acesso\n",
       "379    Prog. Melh. Contínua Qual. e Proc. Assist. Int...\n",
       "380                 Formação da Equipa Multiprofissional\n",
       "381                        Formação de Internos e Alunos\n",
       "407                                 Segurança de Utentes\n",
       "409                              Participação do Cidadão\n",
       "Name: dimensao, dtype: object"
      ]
     },
     "execution_count": 28,
     "metadata": {},
     "output_type": "execute_result"
    }
   ],
   "source": [
    "df.dimensao.drop_duplicates()"
   ]
  },
  {
   "cell_type": "code",
   "execution_count": 65,
   "id": "216d2211",
   "metadata": {},
   "outputs": [],
   "source": [
    "df_area = pd.DataFrame({\n",
    "    'id':df.area.drop_duplicates(),\n",
    "    'label':df.area.drop_duplicates(),\n",
    "    'parent':[np.nan for each in df.area.drop_duplicates()]\n",
    "})"
   ]
  },
  {
   "cell_type": "code",
   "execution_count": 66,
   "id": "d648cea9",
   "metadata": {},
   "outputs": [
    {
     "data": {
      "text/html": [
       "<div>\n",
       "<style scoped>\n",
       "    .dataframe tbody tr th:only-of-type {\n",
       "        vertical-align: middle;\n",
       "    }\n",
       "\n",
       "    .dataframe tbody tr th {\n",
       "        vertical-align: top;\n",
       "    }\n",
       "\n",
       "    .dataframe thead th {\n",
       "        text-align: right;\n",
       "    }\n",
       "</style>\n",
       "<table border=\"1\" class=\"dataframe\">\n",
       "  <thead>\n",
       "    <tr style=\"text-align: right;\">\n",
       "      <th></th>\n",
       "      <th>id</th>\n",
       "      <th>label</th>\n",
       "      <th>parent</th>\n",
       "    </tr>\n",
       "  </thead>\n",
       "  <tbody>\n",
       "    <tr>\n",
       "      <th>0</th>\n",
       "      <td>Desempenho</td>\n",
       "      <td>Desempenho</td>\n",
       "      <td>NaN</td>\n",
       "    </tr>\n",
       "    <tr>\n",
       "      <th>376</th>\n",
       "      <td>Serviços</td>\n",
       "      <td>Serviços</td>\n",
       "      <td>NaN</td>\n",
       "    </tr>\n",
       "    <tr>\n",
       "      <th>378</th>\n",
       "      <td>Qualidade Organizacional</td>\n",
       "      <td>Qualidade Organizacional</td>\n",
       "      <td>NaN</td>\n",
       "    </tr>\n",
       "    <tr>\n",
       "      <th>380</th>\n",
       "      <td>Formação</td>\n",
       "      <td>Formação</td>\n",
       "      <td>NaN</td>\n",
       "    </tr>\n",
       "  </tbody>\n",
       "</table>\n",
       "</div>"
      ],
      "text/plain": [
       "                           id                     label  parent\n",
       "0                  Desempenho                Desempenho     NaN\n",
       "376                  Serviços                  Serviços     NaN\n",
       "378  Qualidade Organizacional  Qualidade Organizacional     NaN\n",
       "380                  Formação                  Formação     NaN"
      ]
     },
     "execution_count": 66,
     "metadata": {},
     "output_type": "execute_result"
    }
   ],
   "source": [
    "df_area"
   ]
  },
  {
   "cell_type": "code",
   "execution_count": 67,
   "id": "7f9a146b",
   "metadata": {},
   "outputs": [
    {
     "data": {
      "text/plain": [
       "'Serviços'"
      ]
     },
     "execution_count": 67,
     "metadata": {},
     "output_type": "execute_result"
    }
   ],
   "source": [
    "df_area.loc[376]['id']"
   ]
  },
  {
   "cell_type": "code",
   "execution_count": 69,
   "id": "68e6cd0e",
   "metadata": {},
   "outputs": [],
   "source": [
    "df_subarea = pd.DataFrame({\n",
    "    'id':df.subarea.drop_duplicates(),\n",
    "    'label':df.subarea.drop_duplicates(),\n",
    "    'parent':[df.loc[each]['area'] for each in df.subarea.drop_duplicates().index]\n",
    "})"
   ]
  },
  {
   "cell_type": "code",
   "execution_count": 70,
   "id": "53b742a2",
   "metadata": {},
   "outputs": [
    {
     "data": {
      "text/html": [
       "<div>\n",
       "<style scoped>\n",
       "    .dataframe tbody tr th:only-of-type {\n",
       "        vertical-align: middle;\n",
       "    }\n",
       "\n",
       "    .dataframe tbody tr th {\n",
       "        vertical-align: top;\n",
       "    }\n",
       "\n",
       "    .dataframe thead th {\n",
       "        text-align: right;\n",
       "    }\n",
       "</style>\n",
       "<table border=\"1\" class=\"dataframe\">\n",
       "  <thead>\n",
       "    <tr style=\"text-align: right;\">\n",
       "      <th></th>\n",
       "      <th>id</th>\n",
       "      <th>label</th>\n",
       "      <th>parent</th>\n",
       "    </tr>\n",
       "  </thead>\n",
       "  <tbody>\n",
       "    <tr>\n",
       "      <th>0</th>\n",
       "      <td>Acesso</td>\n",
       "      <td>Acesso</td>\n",
       "      <td>Desempenho</td>\n",
       "    </tr>\n",
       "    <tr>\n",
       "      <th>7</th>\n",
       "      <td>Gestão da Saúde</td>\n",
       "      <td>Gestão da Saúde</td>\n",
       "      <td>Desempenho</td>\n",
       "    </tr>\n",
       "    <tr>\n",
       "      <th>17</th>\n",
       "      <td>Gestão da Doença</td>\n",
       "      <td>Gestão da Doença</td>\n",
       "      <td>Desempenho</td>\n",
       "    </tr>\n",
       "    <tr>\n",
       "      <th>242</th>\n",
       "      <td>Qualificação da Prescrição</td>\n",
       "      <td>Qualificação da Prescrição</td>\n",
       "      <td>Desempenho</td>\n",
       "    </tr>\n",
       "    <tr>\n",
       "      <th>376</th>\n",
       "      <td>Serviços Assistenciais</td>\n",
       "      <td>Serviços Assistenciais</td>\n",
       "      <td>Serviços</td>\n",
       "    </tr>\n",
       "    <tr>\n",
       "      <th>377</th>\n",
       "      <td>Serviços não Assistenciais</td>\n",
       "      <td>Serviços não Assistenciais</td>\n",
       "      <td>Serviços</td>\n",
       "    </tr>\n",
       "    <tr>\n",
       "      <th>378</th>\n",
       "      <td>Melhoria Contínua</td>\n",
       "      <td>Melhoria Contínua</td>\n",
       "      <td>Qualidade Organizacional</td>\n",
       "    </tr>\n",
       "    <tr>\n",
       "      <th>380</th>\n",
       "      <td>Formação Interna</td>\n",
       "      <td>Formação Interna</td>\n",
       "      <td>Formação</td>\n",
       "    </tr>\n",
       "    <tr>\n",
       "      <th>407</th>\n",
       "      <td>Segurança</td>\n",
       "      <td>Segurança</td>\n",
       "      <td>Qualidade Organizacional</td>\n",
       "    </tr>\n",
       "    <tr>\n",
       "      <th>409</th>\n",
       "      <td>Centralidade no Cidadão</td>\n",
       "      <td>Centralidade no Cidadão</td>\n",
       "      <td>Qualidade Organizacional</td>\n",
       "    </tr>\n",
       "  </tbody>\n",
       "</table>\n",
       "</div>"
      ],
      "text/plain": [
       "                             id                       label  \\\n",
       "0                        Acesso                      Acesso   \n",
       "7               Gestão da Saúde             Gestão da Saúde   \n",
       "17             Gestão da Doença            Gestão da Doença   \n",
       "242  Qualificação da Prescrição  Qualificação da Prescrição   \n",
       "376      Serviços Assistenciais      Serviços Assistenciais   \n",
       "377  Serviços não Assistenciais  Serviços não Assistenciais   \n",
       "378           Melhoria Contínua           Melhoria Contínua   \n",
       "380            Formação Interna            Formação Interna   \n",
       "407                   Segurança                   Segurança   \n",
       "409     Centralidade no Cidadão     Centralidade no Cidadão   \n",
       "\n",
       "                       parent  \n",
       "0                  Desempenho  \n",
       "7                  Desempenho  \n",
       "17                 Desempenho  \n",
       "242                Desempenho  \n",
       "376                  Serviços  \n",
       "377                  Serviços  \n",
       "378  Qualidade Organizacional  \n",
       "380                  Formação  \n",
       "407  Qualidade Organizacional  \n",
       "409  Qualidade Organizacional  "
      ]
     },
     "execution_count": 70,
     "metadata": {},
     "output_type": "execute_result"
    }
   ],
   "source": [
    "df_subarea"
   ]
  },
  {
   "cell_type": "code",
   "execution_count": 71,
   "id": "6d28c4d3",
   "metadata": {},
   "outputs": [],
   "source": [
    "df_dimensao = pd.DataFrame({\n",
    "    'id':df.dimensao.drop_duplicates(),\n",
    "    'label':df.dimensao.drop_duplicates(),\n",
    "    'parent':[df.loc[each]['subarea'] for each in df.dimensao.drop_duplicates().index]\n",
    "})"
   ]
  },
  {
   "cell_type": "code",
   "execution_count": 72,
   "id": "b47a8a71",
   "metadata": {},
   "outputs": [
    {
     "data": {
      "text/html": [
       "<div>\n",
       "<style scoped>\n",
       "    .dataframe tbody tr th:only-of-type {\n",
       "        vertical-align: middle;\n",
       "    }\n",
       "\n",
       "    .dataframe tbody tr th {\n",
       "        vertical-align: top;\n",
       "    }\n",
       "\n",
       "    .dataframe thead th {\n",
       "        text-align: right;\n",
       "    }\n",
       "</style>\n",
       "<table border=\"1\" class=\"dataframe\">\n",
       "  <thead>\n",
       "    <tr style=\"text-align: right;\">\n",
       "      <th></th>\n",
       "      <th>id</th>\n",
       "      <th>label</th>\n",
       "      <th>parent</th>\n",
       "    </tr>\n",
       "  </thead>\n",
       "  <tbody>\n",
       "    <tr>\n",
       "      <th>0</th>\n",
       "      <td>Personalização</td>\n",
       "      <td>Personalização</td>\n",
       "      <td>Acesso</td>\n",
       "    </tr>\n",
       "    <tr>\n",
       "      <th>2</th>\n",
       "      <td>Cobertura ou Utilização</td>\n",
       "      <td>Cobertura ou Utilização</td>\n",
       "      <td>Acesso</td>\n",
       "    </tr>\n",
       "    <tr>\n",
       "      <th>7</th>\n",
       "      <td>Saúde da Mulher</td>\n",
       "      <td>Saúde da Mulher</td>\n",
       "      <td>Gestão da Saúde</td>\n",
       "    </tr>\n",
       "    <tr>\n",
       "      <th>17</th>\n",
       "      <td>Hipertensão Arterial</td>\n",
       "      <td>Hipertensão Arterial</td>\n",
       "      <td>Gestão da Doença</td>\n",
       "    </tr>\n",
       "    <tr>\n",
       "      <th>29</th>\n",
       "      <td>Saúde do Idoso</td>\n",
       "      <td>Saúde do Idoso</td>\n",
       "      <td>Gestão da Saúde</td>\n",
       "    </tr>\n",
       "    <tr>\n",
       "      <th>33</th>\n",
       "      <td>Saúde do Adulto</td>\n",
       "      <td>Saúde do Adulto</td>\n",
       "      <td>Gestão da Saúde</td>\n",
       "    </tr>\n",
       "    <tr>\n",
       "      <th>35</th>\n",
       "      <td>Diabetes Mellitus</td>\n",
       "      <td>Diabetes Mellitus</td>\n",
       "      <td>Gestão da Doença</td>\n",
       "    </tr>\n",
       "    <tr>\n",
       "      <th>48</th>\n",
       "      <td>Doenças Aparelho Respiratório</td>\n",
       "      <td>Doenças Aparelho Respiratório</td>\n",
       "      <td>Gestão da Doença</td>\n",
       "    </tr>\n",
       "    <tr>\n",
       "      <th>62</th>\n",
       "      <td>Saúde Infantil e Juvenil</td>\n",
       "      <td>Saúde Infantil e Juvenil</td>\n",
       "      <td>Gestão da Saúde</td>\n",
       "    </tr>\n",
       "    <tr>\n",
       "      <th>242</th>\n",
       "      <td>Prescrição Farmacoterapêutica</td>\n",
       "      <td>Prescrição Farmacoterapêutica</td>\n",
       "      <td>Qualificação da Prescrição</td>\n",
       "    </tr>\n",
       "    <tr>\n",
       "      <th>287</th>\n",
       "      <td>Prescrição MCDT</td>\n",
       "      <td>Prescrição MCDT</td>\n",
       "      <td>Qualificação da Prescrição</td>\n",
       "    </tr>\n",
       "    <tr>\n",
       "      <th>322</th>\n",
       "      <td>Tempos Máximos de Resposta Garantidos</td>\n",
       "      <td>Tempos Máximos de Resposta Garantidos</td>\n",
       "      <td>Acesso</td>\n",
       "    </tr>\n",
       "    <tr>\n",
       "      <th>326</th>\n",
       "      <td>Consulta no Próprio Dia</td>\n",
       "      <td>Consulta no Próprio Dia</td>\n",
       "      <td>Acesso</td>\n",
       "    </tr>\n",
       "    <tr>\n",
       "      <th>333</th>\n",
       "      <td>Distribuição das Consultas Presenciais no Dia</td>\n",
       "      <td>Distribuição das Consultas Presenciais no Dia</td>\n",
       "      <td>Acesso</td>\n",
       "    </tr>\n",
       "    <tr>\n",
       "      <th>352</th>\n",
       "      <td>Multimorbilidade e Outros Tipos de Doenças</td>\n",
       "      <td>Multimorbilidade e Outros Tipos de Doenças</td>\n",
       "      <td>Gestão da Doença</td>\n",
       "    </tr>\n",
       "    <tr>\n",
       "      <th>376</th>\n",
       "      <td>Serviços Assistenciais</td>\n",
       "      <td>Serviços Assistenciais</td>\n",
       "      <td>Serviços Assistenciais</td>\n",
       "    </tr>\n",
       "    <tr>\n",
       "      <th>377</th>\n",
       "      <td>Governação Clínica</td>\n",
       "      <td>Governação Clínica</td>\n",
       "      <td>Serviços não Assistenciais</td>\n",
       "    </tr>\n",
       "    <tr>\n",
       "      <th>378</th>\n",
       "      <td>Acesso</td>\n",
       "      <td>Acesso</td>\n",
       "      <td>Melhoria Contínua</td>\n",
       "    </tr>\n",
       "    <tr>\n",
       "      <th>379</th>\n",
       "      <td>Prog. Melh. Contínua Qual. e Proc. Assist. Int...</td>\n",
       "      <td>Prog. Melh. Contínua Qual. e Proc. Assist. Int...</td>\n",
       "      <td>Melhoria Contínua</td>\n",
       "    </tr>\n",
       "    <tr>\n",
       "      <th>380</th>\n",
       "      <td>Formação da Equipa Multiprofissional</td>\n",
       "      <td>Formação da Equipa Multiprofissional</td>\n",
       "      <td>Formação Interna</td>\n",
       "    </tr>\n",
       "    <tr>\n",
       "      <th>381</th>\n",
       "      <td>Formação de Internos e Alunos</td>\n",
       "      <td>Formação de Internos e Alunos</td>\n",
       "      <td>Formação Interna</td>\n",
       "    </tr>\n",
       "    <tr>\n",
       "      <th>407</th>\n",
       "      <td>Segurança de Utentes</td>\n",
       "      <td>Segurança de Utentes</td>\n",
       "      <td>Segurança</td>\n",
       "    </tr>\n",
       "    <tr>\n",
       "      <th>409</th>\n",
       "      <td>Participação do Cidadão</td>\n",
       "      <td>Participação do Cidadão</td>\n",
       "      <td>Centralidade no Cidadão</td>\n",
       "    </tr>\n",
       "  </tbody>\n",
       "</table>\n",
       "</div>"
      ],
      "text/plain": [
       "                                                    id  \\\n",
       "0                                       Personalização   \n",
       "2                              Cobertura ou Utilização   \n",
       "7                                      Saúde da Mulher   \n",
       "17                                Hipertensão Arterial   \n",
       "29                                      Saúde do Idoso   \n",
       "33                                     Saúde do Adulto   \n",
       "35                                   Diabetes Mellitus   \n",
       "48                       Doenças Aparelho Respiratório   \n",
       "62                            Saúde Infantil e Juvenil   \n",
       "242                      Prescrição Farmacoterapêutica   \n",
       "287                                    Prescrição MCDT   \n",
       "322              Tempos Máximos de Resposta Garantidos   \n",
       "326                            Consulta no Próprio Dia   \n",
       "333      Distribuição das Consultas Presenciais no Dia   \n",
       "352         Multimorbilidade e Outros Tipos de Doenças   \n",
       "376                             Serviços Assistenciais   \n",
       "377                                 Governação Clínica   \n",
       "378                                             Acesso   \n",
       "379  Prog. Melh. Contínua Qual. e Proc. Assist. Int...   \n",
       "380               Formação da Equipa Multiprofissional   \n",
       "381                      Formação de Internos e Alunos   \n",
       "407                               Segurança de Utentes   \n",
       "409                            Participação do Cidadão   \n",
       "\n",
       "                                                 label  \\\n",
       "0                                       Personalização   \n",
       "2                              Cobertura ou Utilização   \n",
       "7                                      Saúde da Mulher   \n",
       "17                                Hipertensão Arterial   \n",
       "29                                      Saúde do Idoso   \n",
       "33                                     Saúde do Adulto   \n",
       "35                                   Diabetes Mellitus   \n",
       "48                       Doenças Aparelho Respiratório   \n",
       "62                            Saúde Infantil e Juvenil   \n",
       "242                      Prescrição Farmacoterapêutica   \n",
       "287                                    Prescrição MCDT   \n",
       "322              Tempos Máximos de Resposta Garantidos   \n",
       "326                            Consulta no Próprio Dia   \n",
       "333      Distribuição das Consultas Presenciais no Dia   \n",
       "352         Multimorbilidade e Outros Tipos de Doenças   \n",
       "376                             Serviços Assistenciais   \n",
       "377                                 Governação Clínica   \n",
       "378                                             Acesso   \n",
       "379  Prog. Melh. Contínua Qual. e Proc. Assist. Int...   \n",
       "380               Formação da Equipa Multiprofissional   \n",
       "381                      Formação de Internos e Alunos   \n",
       "407                               Segurança de Utentes   \n",
       "409                            Participação do Cidadão   \n",
       "\n",
       "                         parent  \n",
       "0                        Acesso  \n",
       "2                        Acesso  \n",
       "7               Gestão da Saúde  \n",
       "17             Gestão da Doença  \n",
       "29              Gestão da Saúde  \n",
       "33              Gestão da Saúde  \n",
       "35             Gestão da Doença  \n",
       "48             Gestão da Doença  \n",
       "62              Gestão da Saúde  \n",
       "242  Qualificação da Prescrição  \n",
       "287  Qualificação da Prescrição  \n",
       "322                      Acesso  \n",
       "326                      Acesso  \n",
       "333                      Acesso  \n",
       "352            Gestão da Doença  \n",
       "376      Serviços Assistenciais  \n",
       "377  Serviços não Assistenciais  \n",
       "378           Melhoria Contínua  \n",
       "379           Melhoria Contínua  \n",
       "380            Formação Interna  \n",
       "381            Formação Interna  \n",
       "407                   Segurança  \n",
       "409     Centralidade no Cidadão  "
      ]
     },
     "execution_count": 72,
     "metadata": {},
     "output_type": "execute_result"
    }
   ],
   "source": [
    "df_dimensao"
   ]
  },
  {
   "cell_type": "code",
   "execution_count": 73,
   "id": "c4c05719",
   "metadata": {},
   "outputs": [
    {
     "data": {
      "text/html": [
       "<div>\n",
       "<style scoped>\n",
       "    .dataframe tbody tr th:only-of-type {\n",
       "        vertical-align: middle;\n",
       "    }\n",
       "\n",
       "    .dataframe tbody tr th {\n",
       "        vertical-align: top;\n",
       "    }\n",
       "\n",
       "    .dataframe thead th {\n",
       "        text-align: right;\n",
       "    }\n",
       "</style>\n",
       "<table border=\"1\" class=\"dataframe\">\n",
       "  <thead>\n",
       "    <tr style=\"text-align: right;\">\n",
       "      <th></th>\n",
       "      <th>id</th>\n",
       "      <th>label</th>\n",
       "      <th>parent</th>\n",
       "    </tr>\n",
       "  </thead>\n",
       "  <tbody>\n",
       "    <tr>\n",
       "      <th>0</th>\n",
       "      <td>Desempenho</td>\n",
       "      <td>Desempenho</td>\n",
       "      <td>NaN</td>\n",
       "    </tr>\n",
       "    <tr>\n",
       "      <th>376</th>\n",
       "      <td>Serviços</td>\n",
       "      <td>Serviços</td>\n",
       "      <td>NaN</td>\n",
       "    </tr>\n",
       "    <tr>\n",
       "      <th>378</th>\n",
       "      <td>Qualidade Organizacional</td>\n",
       "      <td>Qualidade Organizacional</td>\n",
       "      <td>NaN</td>\n",
       "    </tr>\n",
       "    <tr>\n",
       "      <th>380</th>\n",
       "      <td>Formação</td>\n",
       "      <td>Formação</td>\n",
       "      <td>NaN</td>\n",
       "    </tr>\n",
       "    <tr>\n",
       "      <th>0</th>\n",
       "      <td>Acesso</td>\n",
       "      <td>Acesso</td>\n",
       "      <td>Desempenho</td>\n",
       "    </tr>\n",
       "    <tr>\n",
       "      <th>7</th>\n",
       "      <td>Gestão da Saúde</td>\n",
       "      <td>Gestão da Saúde</td>\n",
       "      <td>Desempenho</td>\n",
       "    </tr>\n",
       "    <tr>\n",
       "      <th>17</th>\n",
       "      <td>Gestão da Doença</td>\n",
       "      <td>Gestão da Doença</td>\n",
       "      <td>Desempenho</td>\n",
       "    </tr>\n",
       "    <tr>\n",
       "      <th>242</th>\n",
       "      <td>Qualificação da Prescrição</td>\n",
       "      <td>Qualificação da Prescrição</td>\n",
       "      <td>Desempenho</td>\n",
       "    </tr>\n",
       "    <tr>\n",
       "      <th>376</th>\n",
       "      <td>Serviços Assistenciais</td>\n",
       "      <td>Serviços Assistenciais</td>\n",
       "      <td>Serviços</td>\n",
       "    </tr>\n",
       "    <tr>\n",
       "      <th>377</th>\n",
       "      <td>Serviços não Assistenciais</td>\n",
       "      <td>Serviços não Assistenciais</td>\n",
       "      <td>Serviços</td>\n",
       "    </tr>\n",
       "    <tr>\n",
       "      <th>378</th>\n",
       "      <td>Melhoria Contínua</td>\n",
       "      <td>Melhoria Contínua</td>\n",
       "      <td>Qualidade Organizacional</td>\n",
       "    </tr>\n",
       "    <tr>\n",
       "      <th>380</th>\n",
       "      <td>Formação Interna</td>\n",
       "      <td>Formação Interna</td>\n",
       "      <td>Formação</td>\n",
       "    </tr>\n",
       "    <tr>\n",
       "      <th>407</th>\n",
       "      <td>Segurança</td>\n",
       "      <td>Segurança</td>\n",
       "      <td>Qualidade Organizacional</td>\n",
       "    </tr>\n",
       "    <tr>\n",
       "      <th>409</th>\n",
       "      <td>Centralidade no Cidadão</td>\n",
       "      <td>Centralidade no Cidadão</td>\n",
       "      <td>Qualidade Organizacional</td>\n",
       "    </tr>\n",
       "    <tr>\n",
       "      <th>0</th>\n",
       "      <td>Personalização</td>\n",
       "      <td>Personalização</td>\n",
       "      <td>Acesso</td>\n",
       "    </tr>\n",
       "    <tr>\n",
       "      <th>2</th>\n",
       "      <td>Cobertura ou Utilização</td>\n",
       "      <td>Cobertura ou Utilização</td>\n",
       "      <td>Acesso</td>\n",
       "    </tr>\n",
       "    <tr>\n",
       "      <th>7</th>\n",
       "      <td>Saúde da Mulher</td>\n",
       "      <td>Saúde da Mulher</td>\n",
       "      <td>Gestão da Saúde</td>\n",
       "    </tr>\n",
       "    <tr>\n",
       "      <th>17</th>\n",
       "      <td>Hipertensão Arterial</td>\n",
       "      <td>Hipertensão Arterial</td>\n",
       "      <td>Gestão da Doença</td>\n",
       "    </tr>\n",
       "    <tr>\n",
       "      <th>29</th>\n",
       "      <td>Saúde do Idoso</td>\n",
       "      <td>Saúde do Idoso</td>\n",
       "      <td>Gestão da Saúde</td>\n",
       "    </tr>\n",
       "    <tr>\n",
       "      <th>33</th>\n",
       "      <td>Saúde do Adulto</td>\n",
       "      <td>Saúde do Adulto</td>\n",
       "      <td>Gestão da Saúde</td>\n",
       "    </tr>\n",
       "    <tr>\n",
       "      <th>35</th>\n",
       "      <td>Diabetes Mellitus</td>\n",
       "      <td>Diabetes Mellitus</td>\n",
       "      <td>Gestão da Doença</td>\n",
       "    </tr>\n",
       "    <tr>\n",
       "      <th>48</th>\n",
       "      <td>Doenças Aparelho Respiratório</td>\n",
       "      <td>Doenças Aparelho Respiratório</td>\n",
       "      <td>Gestão da Doença</td>\n",
       "    </tr>\n",
       "    <tr>\n",
       "      <th>62</th>\n",
       "      <td>Saúde Infantil e Juvenil</td>\n",
       "      <td>Saúde Infantil e Juvenil</td>\n",
       "      <td>Gestão da Saúde</td>\n",
       "    </tr>\n",
       "    <tr>\n",
       "      <th>242</th>\n",
       "      <td>Prescrição Farmacoterapêutica</td>\n",
       "      <td>Prescrição Farmacoterapêutica</td>\n",
       "      <td>Qualificação da Prescrição</td>\n",
       "    </tr>\n",
       "    <tr>\n",
       "      <th>287</th>\n",
       "      <td>Prescrição MCDT</td>\n",
       "      <td>Prescrição MCDT</td>\n",
       "      <td>Qualificação da Prescrição</td>\n",
       "    </tr>\n",
       "    <tr>\n",
       "      <th>322</th>\n",
       "      <td>Tempos Máximos de Resposta Garantidos</td>\n",
       "      <td>Tempos Máximos de Resposta Garantidos</td>\n",
       "      <td>Acesso</td>\n",
       "    </tr>\n",
       "    <tr>\n",
       "      <th>326</th>\n",
       "      <td>Consulta no Próprio Dia</td>\n",
       "      <td>Consulta no Próprio Dia</td>\n",
       "      <td>Acesso</td>\n",
       "    </tr>\n",
       "    <tr>\n",
       "      <th>333</th>\n",
       "      <td>Distribuição das Consultas Presenciais no Dia</td>\n",
       "      <td>Distribuição das Consultas Presenciais no Dia</td>\n",
       "      <td>Acesso</td>\n",
       "    </tr>\n",
       "    <tr>\n",
       "      <th>352</th>\n",
       "      <td>Multimorbilidade e Outros Tipos de Doenças</td>\n",
       "      <td>Multimorbilidade e Outros Tipos de Doenças</td>\n",
       "      <td>Gestão da Doença</td>\n",
       "    </tr>\n",
       "    <tr>\n",
       "      <th>376</th>\n",
       "      <td>Serviços Assistenciais</td>\n",
       "      <td>Serviços Assistenciais</td>\n",
       "      <td>Serviços Assistenciais</td>\n",
       "    </tr>\n",
       "    <tr>\n",
       "      <th>377</th>\n",
       "      <td>Governação Clínica</td>\n",
       "      <td>Governação Clínica</td>\n",
       "      <td>Serviços não Assistenciais</td>\n",
       "    </tr>\n",
       "    <tr>\n",
       "      <th>378</th>\n",
       "      <td>Acesso</td>\n",
       "      <td>Acesso</td>\n",
       "      <td>Melhoria Contínua</td>\n",
       "    </tr>\n",
       "    <tr>\n",
       "      <th>379</th>\n",
       "      <td>Prog. Melh. Contínua Qual. e Proc. Assist. Int...</td>\n",
       "      <td>Prog. Melh. Contínua Qual. e Proc. Assist. Int...</td>\n",
       "      <td>Melhoria Contínua</td>\n",
       "    </tr>\n",
       "    <tr>\n",
       "      <th>380</th>\n",
       "      <td>Formação da Equipa Multiprofissional</td>\n",
       "      <td>Formação da Equipa Multiprofissional</td>\n",
       "      <td>Formação Interna</td>\n",
       "    </tr>\n",
       "    <tr>\n",
       "      <th>381</th>\n",
       "      <td>Formação de Internos e Alunos</td>\n",
       "      <td>Formação de Internos e Alunos</td>\n",
       "      <td>Formação Interna</td>\n",
       "    </tr>\n",
       "    <tr>\n",
       "      <th>407</th>\n",
       "      <td>Segurança de Utentes</td>\n",
       "      <td>Segurança de Utentes</td>\n",
       "      <td>Segurança</td>\n",
       "    </tr>\n",
       "    <tr>\n",
       "      <th>409</th>\n",
       "      <td>Participação do Cidadão</td>\n",
       "      <td>Participação do Cidadão</td>\n",
       "      <td>Centralidade no Cidadão</td>\n",
       "    </tr>\n",
       "  </tbody>\n",
       "</table>\n",
       "</div>"
      ],
      "text/plain": [
       "                                                    id  \\\n",
       "0                                           Desempenho   \n",
       "376                                           Serviços   \n",
       "378                           Qualidade Organizacional   \n",
       "380                                           Formação   \n",
       "0                                               Acesso   \n",
       "7                                      Gestão da Saúde   \n",
       "17                                    Gestão da Doença   \n",
       "242                         Qualificação da Prescrição   \n",
       "376                             Serviços Assistenciais   \n",
       "377                         Serviços não Assistenciais   \n",
       "378                                  Melhoria Contínua   \n",
       "380                                   Formação Interna   \n",
       "407                                          Segurança   \n",
       "409                            Centralidade no Cidadão   \n",
       "0                                       Personalização   \n",
       "2                              Cobertura ou Utilização   \n",
       "7                                      Saúde da Mulher   \n",
       "17                                Hipertensão Arterial   \n",
       "29                                      Saúde do Idoso   \n",
       "33                                     Saúde do Adulto   \n",
       "35                                   Diabetes Mellitus   \n",
       "48                       Doenças Aparelho Respiratório   \n",
       "62                            Saúde Infantil e Juvenil   \n",
       "242                      Prescrição Farmacoterapêutica   \n",
       "287                                    Prescrição MCDT   \n",
       "322              Tempos Máximos de Resposta Garantidos   \n",
       "326                            Consulta no Próprio Dia   \n",
       "333      Distribuição das Consultas Presenciais no Dia   \n",
       "352         Multimorbilidade e Outros Tipos de Doenças   \n",
       "376                             Serviços Assistenciais   \n",
       "377                                 Governação Clínica   \n",
       "378                                             Acesso   \n",
       "379  Prog. Melh. Contínua Qual. e Proc. Assist. Int...   \n",
       "380               Formação da Equipa Multiprofissional   \n",
       "381                      Formação de Internos e Alunos   \n",
       "407                               Segurança de Utentes   \n",
       "409                            Participação do Cidadão   \n",
       "\n",
       "                                                 label  \\\n",
       "0                                           Desempenho   \n",
       "376                                           Serviços   \n",
       "378                           Qualidade Organizacional   \n",
       "380                                           Formação   \n",
       "0                                               Acesso   \n",
       "7                                      Gestão da Saúde   \n",
       "17                                    Gestão da Doença   \n",
       "242                         Qualificação da Prescrição   \n",
       "376                             Serviços Assistenciais   \n",
       "377                         Serviços não Assistenciais   \n",
       "378                                  Melhoria Contínua   \n",
       "380                                   Formação Interna   \n",
       "407                                          Segurança   \n",
       "409                            Centralidade no Cidadão   \n",
       "0                                       Personalização   \n",
       "2                              Cobertura ou Utilização   \n",
       "7                                      Saúde da Mulher   \n",
       "17                                Hipertensão Arterial   \n",
       "29                                      Saúde do Idoso   \n",
       "33                                     Saúde do Adulto   \n",
       "35                                   Diabetes Mellitus   \n",
       "48                       Doenças Aparelho Respiratório   \n",
       "62                            Saúde Infantil e Juvenil   \n",
       "242                      Prescrição Farmacoterapêutica   \n",
       "287                                    Prescrição MCDT   \n",
       "322              Tempos Máximos de Resposta Garantidos   \n",
       "326                            Consulta no Próprio Dia   \n",
       "333      Distribuição das Consultas Presenciais no Dia   \n",
       "352         Multimorbilidade e Outros Tipos de Doenças   \n",
       "376                             Serviços Assistenciais   \n",
       "377                                 Governação Clínica   \n",
       "378                                             Acesso   \n",
       "379  Prog. Melh. Contínua Qual. e Proc. Assist. Int...   \n",
       "380               Formação da Equipa Multiprofissional   \n",
       "381                      Formação de Internos e Alunos   \n",
       "407                               Segurança de Utentes   \n",
       "409                            Participação do Cidadão   \n",
       "\n",
       "                         parent  \n",
       "0                           NaN  \n",
       "376                         NaN  \n",
       "378                         NaN  \n",
       "380                         NaN  \n",
       "0                    Desempenho  \n",
       "7                    Desempenho  \n",
       "17                   Desempenho  \n",
       "242                  Desempenho  \n",
       "376                    Serviços  \n",
       "377                    Serviços  \n",
       "378    Qualidade Organizacional  \n",
       "380                    Formação  \n",
       "407    Qualidade Organizacional  \n",
       "409    Qualidade Organizacional  \n",
       "0                        Acesso  \n",
       "2                        Acesso  \n",
       "7               Gestão da Saúde  \n",
       "17             Gestão da Doença  \n",
       "29              Gestão da Saúde  \n",
       "33              Gestão da Saúde  \n",
       "35             Gestão da Doença  \n",
       "48             Gestão da Doença  \n",
       "62              Gestão da Saúde  \n",
       "242  Qualificação da Prescrição  \n",
       "287  Qualificação da Prescrição  \n",
       "322                      Acesso  \n",
       "326                      Acesso  \n",
       "333                      Acesso  \n",
       "352            Gestão da Doença  \n",
       "376      Serviços Assistenciais  \n",
       "377  Serviços não Assistenciais  \n",
       "378           Melhoria Contínua  \n",
       "379           Melhoria Contínua  \n",
       "380            Formação Interna  \n",
       "381            Formação Interna  \n",
       "407                   Segurança  \n",
       "409     Centralidade no Cidadão  "
      ]
     },
     "execution_count": 73,
     "metadata": {},
     "output_type": "execute_result"
    }
   ],
   "source": [
    "df_sunburst = pd.concat([df_area,df_subarea,df_dimensao])\n",
    "df_sunburst"
   ]
  },
  {
   "cell_type": "code",
   "execution_count": 78,
   "id": "37e25604",
   "metadata": {},
   "outputs": [
    {
     "data": {
      "application/vnd.plotly.v1+json": {
       "config": {
        "plotlyServerURL": "https://plot.ly"
       },
       "data": [
        {
         "ids": [
          "Desempenho",
          "Serviços",
          "Qualidade Organizacional",
          "Formação",
          "Acesso",
          "Gestão da Saúde",
          "Gestão da Doença",
          "Qualificação da Prescrição",
          "Serviços Assistenciais",
          "Serviços não Assistenciais",
          "Melhoria Contínua",
          "Formação Interna",
          "Segurança",
          "Centralidade no Cidadão",
          "Personalização",
          "Cobertura ou Utilização",
          "Saúde da Mulher",
          "Hipertensão Arterial",
          "Saúde do Idoso",
          "Saúde do Adulto",
          "Diabetes Mellitus",
          "Doenças Aparelho Respiratório",
          "Saúde Infantil e Juvenil",
          "Prescrição Farmacoterapêutica",
          "Prescrição MCDT",
          "Tempos Máximos de Resposta Garantidos",
          "Consulta no Próprio Dia",
          "Distribuição das Consultas Presenciais no Dia",
          "Multimorbilidade e Outros Tipos de Doenças",
          "Serviços Assistenciais",
          "Governação Clínica",
          "Acesso",
          "Prog. Melh. Contínua Qual. e Proc. Assist. Integr.",
          "Formação da Equipa Multiprofissional",
          "Formação de Internos e Alunos",
          "Segurança de Utentes",
          "Participação do Cidadão"
         ],
         "labels": [
          "Desempenho",
          "Serviços",
          "Qualidade Organizacional",
          "Formação",
          "Acesso",
          "Gestão da Saúde",
          "Gestão da Doença",
          "Qualificação da Prescrição",
          "Serviços Assistenciais",
          "Serviços não Assistenciais",
          "Melhoria Contínua",
          "Formação Interna",
          "Segurança",
          "Centralidade no Cidadão",
          "Personalização",
          "Cobertura ou Utilização",
          "Saúde da Mulher",
          "Hipertensão Arterial",
          "Saúde do Idoso",
          "Saúde do Adulto",
          "Diabetes Mellitus",
          "Doenças Aparelho Respiratório",
          "Saúde Infantil e Juvenil",
          "Prescrição Farmacoterapêutica",
          "Prescrição MCDT",
          "Tempos Máximos de Resposta Garantidos",
          "Consulta no Próprio Dia",
          "Distribuição das Consultas Presenciais no Dia",
          "Multimorbilidade e Outros Tipos de Doenças",
          "Serviços Assistenciais",
          "Governação Clínica",
          "Acesso",
          "Prog. Melh. Contínua Qual. e Proc. Assist. Integr.",
          "Formação da Equipa Multiprofissional",
          "Formação de Internos e Alunos",
          "Segurança de Utentes",
          "Participação do Cidadão"
         ],
         "parents": [
          null,
          null,
          null,
          null,
          "Desempenho",
          "Desempenho",
          "Desempenho",
          "Desempenho",
          "Serviços",
          "Serviços",
          "Qualidade Organizacional",
          "Formação",
          "Qualidade Organizacional",
          "Qualidade Organizacional",
          "Acesso",
          "Acesso",
          "Gestão da Saúde",
          "Gestão da Doença",
          "Gestão da Saúde",
          "Gestão da Saúde",
          "Gestão da Doença",
          "Gestão da Doença",
          "Gestão da Saúde",
          "Qualificação da Prescrição",
          "Qualificação da Prescrição",
          "Acesso",
          "Acesso",
          "Acesso",
          "Gestão da Doença",
          "Serviços Assistenciais",
          "Serviços não Assistenciais",
          "Melhoria Contínua",
          "Melhoria Contínua",
          "Formação Interna",
          "Formação Interna",
          "Segurança",
          "Centralidade no Cidadão"
         ],
         "type": "sunburst"
        }
       ],
       "layout": {
        "template": {
         "data": {
          "bar": [
           {
            "error_x": {
             "color": "#2a3f5f"
            },
            "error_y": {
             "color": "#2a3f5f"
            },
            "marker": {
             "line": {
              "color": "#E5ECF6",
              "width": 0.5
             },
             "pattern": {
              "fillmode": "overlay",
              "size": 10,
              "solidity": 0.2
             }
            },
            "type": "bar"
           }
          ],
          "barpolar": [
           {
            "marker": {
             "line": {
              "color": "#E5ECF6",
              "width": 0.5
             },
             "pattern": {
              "fillmode": "overlay",
              "size": 10,
              "solidity": 0.2
             }
            },
            "type": "barpolar"
           }
          ],
          "carpet": [
           {
            "aaxis": {
             "endlinecolor": "#2a3f5f",
             "gridcolor": "white",
             "linecolor": "white",
             "minorgridcolor": "white",
             "startlinecolor": "#2a3f5f"
            },
            "baxis": {
             "endlinecolor": "#2a3f5f",
             "gridcolor": "white",
             "linecolor": "white",
             "minorgridcolor": "white",
             "startlinecolor": "#2a3f5f"
            },
            "type": "carpet"
           }
          ],
          "choropleth": [
           {
            "colorbar": {
             "outlinewidth": 0,
             "ticks": ""
            },
            "type": "choropleth"
           }
          ],
          "contour": [
           {
            "colorbar": {
             "outlinewidth": 0,
             "ticks": ""
            },
            "colorscale": [
             [
              0,
              "#0d0887"
             ],
             [
              0.1111111111111111,
              "#46039f"
             ],
             [
              0.2222222222222222,
              "#7201a8"
             ],
             [
              0.3333333333333333,
              "#9c179e"
             ],
             [
              0.4444444444444444,
              "#bd3786"
             ],
             [
              0.5555555555555556,
              "#d8576b"
             ],
             [
              0.6666666666666666,
              "#ed7953"
             ],
             [
              0.7777777777777778,
              "#fb9f3a"
             ],
             [
              0.8888888888888888,
              "#fdca26"
             ],
             [
              1,
              "#f0f921"
             ]
            ],
            "type": "contour"
           }
          ],
          "contourcarpet": [
           {
            "colorbar": {
             "outlinewidth": 0,
             "ticks": ""
            },
            "type": "contourcarpet"
           }
          ],
          "heatmap": [
           {
            "colorbar": {
             "outlinewidth": 0,
             "ticks": ""
            },
            "colorscale": [
             [
              0,
              "#0d0887"
             ],
             [
              0.1111111111111111,
              "#46039f"
             ],
             [
              0.2222222222222222,
              "#7201a8"
             ],
             [
              0.3333333333333333,
              "#9c179e"
             ],
             [
              0.4444444444444444,
              "#bd3786"
             ],
             [
              0.5555555555555556,
              "#d8576b"
             ],
             [
              0.6666666666666666,
              "#ed7953"
             ],
             [
              0.7777777777777778,
              "#fb9f3a"
             ],
             [
              0.8888888888888888,
              "#fdca26"
             ],
             [
              1,
              "#f0f921"
             ]
            ],
            "type": "heatmap"
           }
          ],
          "heatmapgl": [
           {
            "colorbar": {
             "outlinewidth": 0,
             "ticks": ""
            },
            "colorscale": [
             [
              0,
              "#0d0887"
             ],
             [
              0.1111111111111111,
              "#46039f"
             ],
             [
              0.2222222222222222,
              "#7201a8"
             ],
             [
              0.3333333333333333,
              "#9c179e"
             ],
             [
              0.4444444444444444,
              "#bd3786"
             ],
             [
              0.5555555555555556,
              "#d8576b"
             ],
             [
              0.6666666666666666,
              "#ed7953"
             ],
             [
              0.7777777777777778,
              "#fb9f3a"
             ],
             [
              0.8888888888888888,
              "#fdca26"
             ],
             [
              1,
              "#f0f921"
             ]
            ],
            "type": "heatmapgl"
           }
          ],
          "histogram": [
           {
            "marker": {
             "pattern": {
              "fillmode": "overlay",
              "size": 10,
              "solidity": 0.2
             }
            },
            "type": "histogram"
           }
          ],
          "histogram2d": [
           {
            "colorbar": {
             "outlinewidth": 0,
             "ticks": ""
            },
            "colorscale": [
             [
              0,
              "#0d0887"
             ],
             [
              0.1111111111111111,
              "#46039f"
             ],
             [
              0.2222222222222222,
              "#7201a8"
             ],
             [
              0.3333333333333333,
              "#9c179e"
             ],
             [
              0.4444444444444444,
              "#bd3786"
             ],
             [
              0.5555555555555556,
              "#d8576b"
             ],
             [
              0.6666666666666666,
              "#ed7953"
             ],
             [
              0.7777777777777778,
              "#fb9f3a"
             ],
             [
              0.8888888888888888,
              "#fdca26"
             ],
             [
              1,
              "#f0f921"
             ]
            ],
            "type": "histogram2d"
           }
          ],
          "histogram2dcontour": [
           {
            "colorbar": {
             "outlinewidth": 0,
             "ticks": ""
            },
            "colorscale": [
             [
              0,
              "#0d0887"
             ],
             [
              0.1111111111111111,
              "#46039f"
             ],
             [
              0.2222222222222222,
              "#7201a8"
             ],
             [
              0.3333333333333333,
              "#9c179e"
             ],
             [
              0.4444444444444444,
              "#bd3786"
             ],
             [
              0.5555555555555556,
              "#d8576b"
             ],
             [
              0.6666666666666666,
              "#ed7953"
             ],
             [
              0.7777777777777778,
              "#fb9f3a"
             ],
             [
              0.8888888888888888,
              "#fdca26"
             ],
             [
              1,
              "#f0f921"
             ]
            ],
            "type": "histogram2dcontour"
           }
          ],
          "mesh3d": [
           {
            "colorbar": {
             "outlinewidth": 0,
             "ticks": ""
            },
            "type": "mesh3d"
           }
          ],
          "parcoords": [
           {
            "line": {
             "colorbar": {
              "outlinewidth": 0,
              "ticks": ""
             }
            },
            "type": "parcoords"
           }
          ],
          "pie": [
           {
            "automargin": true,
            "type": "pie"
           }
          ],
          "scatter": [
           {
            "marker": {
             "colorbar": {
              "outlinewidth": 0,
              "ticks": ""
             }
            },
            "type": "scatter"
           }
          ],
          "scatter3d": [
           {
            "line": {
             "colorbar": {
              "outlinewidth": 0,
              "ticks": ""
             }
            },
            "marker": {
             "colorbar": {
              "outlinewidth": 0,
              "ticks": ""
             }
            },
            "type": "scatter3d"
           }
          ],
          "scattercarpet": [
           {
            "marker": {
             "colorbar": {
              "outlinewidth": 0,
              "ticks": ""
             }
            },
            "type": "scattercarpet"
           }
          ],
          "scattergeo": [
           {
            "marker": {
             "colorbar": {
              "outlinewidth": 0,
              "ticks": ""
             }
            },
            "type": "scattergeo"
           }
          ],
          "scattergl": [
           {
            "marker": {
             "colorbar": {
              "outlinewidth": 0,
              "ticks": ""
             }
            },
            "type": "scattergl"
           }
          ],
          "scattermapbox": [
           {
            "marker": {
             "colorbar": {
              "outlinewidth": 0,
              "ticks": ""
             }
            },
            "type": "scattermapbox"
           }
          ],
          "scatterpolar": [
           {
            "marker": {
             "colorbar": {
              "outlinewidth": 0,
              "ticks": ""
             }
            },
            "type": "scatterpolar"
           }
          ],
          "scatterpolargl": [
           {
            "marker": {
             "colorbar": {
              "outlinewidth": 0,
              "ticks": ""
             }
            },
            "type": "scatterpolargl"
           }
          ],
          "scatterternary": [
           {
            "marker": {
             "colorbar": {
              "outlinewidth": 0,
              "ticks": ""
             }
            },
            "type": "scatterternary"
           }
          ],
          "surface": [
           {
            "colorbar": {
             "outlinewidth": 0,
             "ticks": ""
            },
            "colorscale": [
             [
              0,
              "#0d0887"
             ],
             [
              0.1111111111111111,
              "#46039f"
             ],
             [
              0.2222222222222222,
              "#7201a8"
             ],
             [
              0.3333333333333333,
              "#9c179e"
             ],
             [
              0.4444444444444444,
              "#bd3786"
             ],
             [
              0.5555555555555556,
              "#d8576b"
             ],
             [
              0.6666666666666666,
              "#ed7953"
             ],
             [
              0.7777777777777778,
              "#fb9f3a"
             ],
             [
              0.8888888888888888,
              "#fdca26"
             ],
             [
              1,
              "#f0f921"
             ]
            ],
            "type": "surface"
           }
          ],
          "table": [
           {
            "cells": {
             "fill": {
              "color": "#EBF0F8"
             },
             "line": {
              "color": "white"
             }
            },
            "header": {
             "fill": {
              "color": "#C8D4E3"
             },
             "line": {
              "color": "white"
             }
            },
            "type": "table"
           }
          ]
         },
         "layout": {
          "annotationdefaults": {
           "arrowcolor": "#2a3f5f",
           "arrowhead": 0,
           "arrowwidth": 1
          },
          "autotypenumbers": "strict",
          "coloraxis": {
           "colorbar": {
            "outlinewidth": 0,
            "ticks": ""
           }
          },
          "colorscale": {
           "diverging": [
            [
             0,
             "#8e0152"
            ],
            [
             0.1,
             "#c51b7d"
            ],
            [
             0.2,
             "#de77ae"
            ],
            [
             0.3,
             "#f1b6da"
            ],
            [
             0.4,
             "#fde0ef"
            ],
            [
             0.5,
             "#f7f7f7"
            ],
            [
             0.6,
             "#e6f5d0"
            ],
            [
             0.7,
             "#b8e186"
            ],
            [
             0.8,
             "#7fbc41"
            ],
            [
             0.9,
             "#4d9221"
            ],
            [
             1,
             "#276419"
            ]
           ],
           "sequential": [
            [
             0,
             "#0d0887"
            ],
            [
             0.1111111111111111,
             "#46039f"
            ],
            [
             0.2222222222222222,
             "#7201a8"
            ],
            [
             0.3333333333333333,
             "#9c179e"
            ],
            [
             0.4444444444444444,
             "#bd3786"
            ],
            [
             0.5555555555555556,
             "#d8576b"
            ],
            [
             0.6666666666666666,
             "#ed7953"
            ],
            [
             0.7777777777777778,
             "#fb9f3a"
            ],
            [
             0.8888888888888888,
             "#fdca26"
            ],
            [
             1,
             "#f0f921"
            ]
           ],
           "sequentialminus": [
            [
             0,
             "#0d0887"
            ],
            [
             0.1111111111111111,
             "#46039f"
            ],
            [
             0.2222222222222222,
             "#7201a8"
            ],
            [
             0.3333333333333333,
             "#9c179e"
            ],
            [
             0.4444444444444444,
             "#bd3786"
            ],
            [
             0.5555555555555556,
             "#d8576b"
            ],
            [
             0.6666666666666666,
             "#ed7953"
            ],
            [
             0.7777777777777778,
             "#fb9f3a"
            ],
            [
             0.8888888888888888,
             "#fdca26"
            ],
            [
             1,
             "#f0f921"
            ]
           ]
          },
          "colorway": [
           "#636efa",
           "#EF553B",
           "#00cc96",
           "#ab63fa",
           "#FFA15A",
           "#19d3f3",
           "#FF6692",
           "#B6E880",
           "#FF97FF",
           "#FECB52"
          ],
          "font": {
           "color": "#2a3f5f"
          },
          "geo": {
           "bgcolor": "white",
           "lakecolor": "white",
           "landcolor": "#E5ECF6",
           "showlakes": true,
           "showland": true,
           "subunitcolor": "white"
          },
          "hoverlabel": {
           "align": "left"
          },
          "hovermode": "closest",
          "mapbox": {
           "style": "light"
          },
          "paper_bgcolor": "white",
          "plot_bgcolor": "#E5ECF6",
          "polar": {
           "angularaxis": {
            "gridcolor": "white",
            "linecolor": "white",
            "ticks": ""
           },
           "bgcolor": "#E5ECF6",
           "radialaxis": {
            "gridcolor": "white",
            "linecolor": "white",
            "ticks": ""
           }
          },
          "scene": {
           "xaxis": {
            "backgroundcolor": "#E5ECF6",
            "gridcolor": "white",
            "gridwidth": 2,
            "linecolor": "white",
            "showbackground": true,
            "ticks": "",
            "zerolinecolor": "white"
           },
           "yaxis": {
            "backgroundcolor": "#E5ECF6",
            "gridcolor": "white",
            "gridwidth": 2,
            "linecolor": "white",
            "showbackground": true,
            "ticks": "",
            "zerolinecolor": "white"
           },
           "zaxis": {
            "backgroundcolor": "#E5ECF6",
            "gridcolor": "white",
            "gridwidth": 2,
            "linecolor": "white",
            "showbackground": true,
            "ticks": "",
            "zerolinecolor": "white"
           }
          },
          "shapedefaults": {
           "line": {
            "color": "#2a3f5f"
           }
          },
          "ternary": {
           "aaxis": {
            "gridcolor": "white",
            "linecolor": "white",
            "ticks": ""
           },
           "baxis": {
            "gridcolor": "white",
            "linecolor": "white",
            "ticks": ""
           },
           "bgcolor": "#E5ECF6",
           "caxis": {
            "gridcolor": "white",
            "linecolor": "white",
            "ticks": ""
           }
          },
          "title": {
           "x": 0.05
          },
          "xaxis": {
           "automargin": true,
           "gridcolor": "white",
           "linecolor": "white",
           "ticks": "",
           "title": {
            "standoff": 15
           },
           "zerolinecolor": "white",
           "zerolinewidth": 2
          },
          "yaxis": {
           "automargin": true,
           "gridcolor": "white",
           "linecolor": "white",
           "ticks": "",
           "title": {
            "standoff": 15
           },
           "zerolinecolor": "white",
           "zerolinewidth": 2
          }
         }
        }
       }
      },
      "text/html": [
       "<div>                            <div id=\"7184f669-3be7-43ed-8348-4f5b5b73023b\" class=\"plotly-graph-div\" style=\"height:525px; width:100%;\"></div>            <script type=\"text/javascript\">                require([\"plotly\"], function(Plotly) {                    window.PLOTLYENV=window.PLOTLYENV || {};                                    if (document.getElementById(\"7184f669-3be7-43ed-8348-4f5b5b73023b\")) {                    Plotly.newPlot(                        \"7184f669-3be7-43ed-8348-4f5b5b73023b\",                        [{\"ids\":[\"Desempenho\",\"Servi\\u00e7os\",\"Qualidade Organizacional\",\"Forma\\u00e7\\u00e3o\",\"Acesso\",\"Gest\\u00e3o da Sa\\u00fade\",\"Gest\\u00e3o da Doen\\u00e7a\",\"Qualifica\\u00e7\\u00e3o da Prescri\\u00e7\\u00e3o\",\"Servi\\u00e7os Assistenciais\",\"Servi\\u00e7os n\\u00e3o Assistenciais\",\"Melhoria Cont\\u00ednua\",\"Forma\\u00e7\\u00e3o Interna\",\"Seguran\\u00e7a\",\"Centralidade no Cidad\\u00e3o\",\"Personaliza\\u00e7\\u00e3o\",\"Cobertura ou Utiliza\\u00e7\\u00e3o\",\"Sa\\u00fade da Mulher\",\"Hipertens\\u00e3o Arterial\",\"Sa\\u00fade do Idoso\",\"Sa\\u00fade do Adulto\",\"Diabetes Mellitus\",\"Doen\\u00e7as Aparelho Respirat\\u00f3rio\",\"Sa\\u00fade Infantil e Juvenil\",\"Prescri\\u00e7\\u00e3o Farmacoterap\\u00eautica\",\"Prescri\\u00e7\\u00e3o MCDT\",\"Tempos M\\u00e1ximos de Resposta Garantidos\",\"Consulta no Pr\\u00f3prio Dia\",\"Distribui\\u00e7\\u00e3o das Consultas Presenciais no Dia\",\"Multimorbilidade e Outros Tipos de Doen\\u00e7as\",\"Servi\\u00e7os Assistenciais\",\"Governa\\u00e7\\u00e3o Cl\\u00ednica\",\"Acesso\",\"Prog. Melh. Cont\\u00ednua Qual. e Proc. Assist. Integr.\",\"Forma\\u00e7\\u00e3o da Equipa Multiprofissional\",\"Forma\\u00e7\\u00e3o de Internos e Alunos\",\"Seguran\\u00e7a de Utentes\",\"Participa\\u00e7\\u00e3o do Cidad\\u00e3o\"],\"labels\":[\"Desempenho\",\"Servi\\u00e7os\",\"Qualidade Organizacional\",\"Forma\\u00e7\\u00e3o\",\"Acesso\",\"Gest\\u00e3o da Sa\\u00fade\",\"Gest\\u00e3o da Doen\\u00e7a\",\"Qualifica\\u00e7\\u00e3o da Prescri\\u00e7\\u00e3o\",\"Servi\\u00e7os Assistenciais\",\"Servi\\u00e7os n\\u00e3o Assistenciais\",\"Melhoria Cont\\u00ednua\",\"Forma\\u00e7\\u00e3o Interna\",\"Seguran\\u00e7a\",\"Centralidade no Cidad\\u00e3o\",\"Personaliza\\u00e7\\u00e3o\",\"Cobertura ou Utiliza\\u00e7\\u00e3o\",\"Sa\\u00fade da Mulher\",\"Hipertens\\u00e3o Arterial\",\"Sa\\u00fade do Idoso\",\"Sa\\u00fade do Adulto\",\"Diabetes Mellitus\",\"Doen\\u00e7as Aparelho Respirat\\u00f3rio\",\"Sa\\u00fade Infantil e Juvenil\",\"Prescri\\u00e7\\u00e3o Farmacoterap\\u00eautica\",\"Prescri\\u00e7\\u00e3o MCDT\",\"Tempos M\\u00e1ximos de Resposta Garantidos\",\"Consulta no Pr\\u00f3prio Dia\",\"Distribui\\u00e7\\u00e3o das Consultas Presenciais no Dia\",\"Multimorbilidade e Outros Tipos de Doen\\u00e7as\",\"Servi\\u00e7os Assistenciais\",\"Governa\\u00e7\\u00e3o Cl\\u00ednica\",\"Acesso\",\"Prog. Melh. Cont\\u00ednua Qual. e Proc. Assist. Integr.\",\"Forma\\u00e7\\u00e3o da Equipa Multiprofissional\",\"Forma\\u00e7\\u00e3o de Internos e Alunos\",\"Seguran\\u00e7a de Utentes\",\"Participa\\u00e7\\u00e3o do Cidad\\u00e3o\"],\"parents\":[null,null,null,null,\"Desempenho\",\"Desempenho\",\"Desempenho\",\"Desempenho\",\"Servi\\u00e7os\",\"Servi\\u00e7os\",\"Qualidade Organizacional\",\"Forma\\u00e7\\u00e3o\",\"Qualidade Organizacional\",\"Qualidade Organizacional\",\"Acesso\",\"Acesso\",\"Gest\\u00e3o da Sa\\u00fade\",\"Gest\\u00e3o da Doen\\u00e7a\",\"Gest\\u00e3o da Sa\\u00fade\",\"Gest\\u00e3o da Sa\\u00fade\",\"Gest\\u00e3o da Doen\\u00e7a\",\"Gest\\u00e3o da Doen\\u00e7a\",\"Gest\\u00e3o da Sa\\u00fade\",\"Qualifica\\u00e7\\u00e3o da Prescri\\u00e7\\u00e3o\",\"Qualifica\\u00e7\\u00e3o da Prescri\\u00e7\\u00e3o\",\"Acesso\",\"Acesso\",\"Acesso\",\"Gest\\u00e3o da Doen\\u00e7a\",\"Servi\\u00e7os Assistenciais\",\"Servi\\u00e7os n\\u00e3o Assistenciais\",\"Melhoria Cont\\u00ednua\",\"Melhoria Cont\\u00ednua\",\"Forma\\u00e7\\u00e3o Interna\",\"Forma\\u00e7\\u00e3o Interna\",\"Seguran\\u00e7a\",\"Centralidade no Cidad\\u00e3o\"],\"type\":\"sunburst\"}],                        {\"template\":{\"data\":{\"bar\":[{\"error_x\":{\"color\":\"#2a3f5f\"},\"error_y\":{\"color\":\"#2a3f5f\"},\"marker\":{\"line\":{\"color\":\"#E5ECF6\",\"width\":0.5},\"pattern\":{\"fillmode\":\"overlay\",\"size\":10,\"solidity\":0.2}},\"type\":\"bar\"}],\"barpolar\":[{\"marker\":{\"line\":{\"color\":\"#E5ECF6\",\"width\":0.5},\"pattern\":{\"fillmode\":\"overlay\",\"size\":10,\"solidity\":0.2}},\"type\":\"barpolar\"}],\"carpet\":[{\"aaxis\":{\"endlinecolor\":\"#2a3f5f\",\"gridcolor\":\"white\",\"linecolor\":\"white\",\"minorgridcolor\":\"white\",\"startlinecolor\":\"#2a3f5f\"},\"baxis\":{\"endlinecolor\":\"#2a3f5f\",\"gridcolor\":\"white\",\"linecolor\":\"white\",\"minorgridcolor\":\"white\",\"startlinecolor\":\"#2a3f5f\"},\"type\":\"carpet\"}],\"choropleth\":[{\"colorbar\":{\"outlinewidth\":0,\"ticks\":\"\"},\"type\":\"choropleth\"}],\"contour\":[{\"colorbar\":{\"outlinewidth\":0,\"ticks\":\"\"},\"colorscale\":[[0.0,\"#0d0887\"],[0.1111111111111111,\"#46039f\"],[0.2222222222222222,\"#7201a8\"],[0.3333333333333333,\"#9c179e\"],[0.4444444444444444,\"#bd3786\"],[0.5555555555555556,\"#d8576b\"],[0.6666666666666666,\"#ed7953\"],[0.7777777777777778,\"#fb9f3a\"],[0.8888888888888888,\"#fdca26\"],[1.0,\"#f0f921\"]],\"type\":\"contour\"}],\"contourcarpet\":[{\"colorbar\":{\"outlinewidth\":0,\"ticks\":\"\"},\"type\":\"contourcarpet\"}],\"heatmap\":[{\"colorbar\":{\"outlinewidth\":0,\"ticks\":\"\"},\"colorscale\":[[0.0,\"#0d0887\"],[0.1111111111111111,\"#46039f\"],[0.2222222222222222,\"#7201a8\"],[0.3333333333333333,\"#9c179e\"],[0.4444444444444444,\"#bd3786\"],[0.5555555555555556,\"#d8576b\"],[0.6666666666666666,\"#ed7953\"],[0.7777777777777778,\"#fb9f3a\"],[0.8888888888888888,\"#fdca26\"],[1.0,\"#f0f921\"]],\"type\":\"heatmap\"}],\"heatmapgl\":[{\"colorbar\":{\"outlinewidth\":0,\"ticks\":\"\"},\"colorscale\":[[0.0,\"#0d0887\"],[0.1111111111111111,\"#46039f\"],[0.2222222222222222,\"#7201a8\"],[0.3333333333333333,\"#9c179e\"],[0.4444444444444444,\"#bd3786\"],[0.5555555555555556,\"#d8576b\"],[0.6666666666666666,\"#ed7953\"],[0.7777777777777778,\"#fb9f3a\"],[0.8888888888888888,\"#fdca26\"],[1.0,\"#f0f921\"]],\"type\":\"heatmapgl\"}],\"histogram\":[{\"marker\":{\"pattern\":{\"fillmode\":\"overlay\",\"size\":10,\"solidity\":0.2}},\"type\":\"histogram\"}],\"histogram2d\":[{\"colorbar\":{\"outlinewidth\":0,\"ticks\":\"\"},\"colorscale\":[[0.0,\"#0d0887\"],[0.1111111111111111,\"#46039f\"],[0.2222222222222222,\"#7201a8\"],[0.3333333333333333,\"#9c179e\"],[0.4444444444444444,\"#bd3786\"],[0.5555555555555556,\"#d8576b\"],[0.6666666666666666,\"#ed7953\"],[0.7777777777777778,\"#fb9f3a\"],[0.8888888888888888,\"#fdca26\"],[1.0,\"#f0f921\"]],\"type\":\"histogram2d\"}],\"histogram2dcontour\":[{\"colorbar\":{\"outlinewidth\":0,\"ticks\":\"\"},\"colorscale\":[[0.0,\"#0d0887\"],[0.1111111111111111,\"#46039f\"],[0.2222222222222222,\"#7201a8\"],[0.3333333333333333,\"#9c179e\"],[0.4444444444444444,\"#bd3786\"],[0.5555555555555556,\"#d8576b\"],[0.6666666666666666,\"#ed7953\"],[0.7777777777777778,\"#fb9f3a\"],[0.8888888888888888,\"#fdca26\"],[1.0,\"#f0f921\"]],\"type\":\"histogram2dcontour\"}],\"mesh3d\":[{\"colorbar\":{\"outlinewidth\":0,\"ticks\":\"\"},\"type\":\"mesh3d\"}],\"parcoords\":[{\"line\":{\"colorbar\":{\"outlinewidth\":0,\"ticks\":\"\"}},\"type\":\"parcoords\"}],\"pie\":[{\"automargin\":true,\"type\":\"pie\"}],\"scatter\":[{\"marker\":{\"colorbar\":{\"outlinewidth\":0,\"ticks\":\"\"}},\"type\":\"scatter\"}],\"scatter3d\":[{\"line\":{\"colorbar\":{\"outlinewidth\":0,\"ticks\":\"\"}},\"marker\":{\"colorbar\":{\"outlinewidth\":0,\"ticks\":\"\"}},\"type\":\"scatter3d\"}],\"scattercarpet\":[{\"marker\":{\"colorbar\":{\"outlinewidth\":0,\"ticks\":\"\"}},\"type\":\"scattercarpet\"}],\"scattergeo\":[{\"marker\":{\"colorbar\":{\"outlinewidth\":0,\"ticks\":\"\"}},\"type\":\"scattergeo\"}],\"scattergl\":[{\"marker\":{\"colorbar\":{\"outlinewidth\":0,\"ticks\":\"\"}},\"type\":\"scattergl\"}],\"scattermapbox\":[{\"marker\":{\"colorbar\":{\"outlinewidth\":0,\"ticks\":\"\"}},\"type\":\"scattermapbox\"}],\"scatterpolar\":[{\"marker\":{\"colorbar\":{\"outlinewidth\":0,\"ticks\":\"\"}},\"type\":\"scatterpolar\"}],\"scatterpolargl\":[{\"marker\":{\"colorbar\":{\"outlinewidth\":0,\"ticks\":\"\"}},\"type\":\"scatterpolargl\"}],\"scatterternary\":[{\"marker\":{\"colorbar\":{\"outlinewidth\":0,\"ticks\":\"\"}},\"type\":\"scatterternary\"}],\"surface\":[{\"colorbar\":{\"outlinewidth\":0,\"ticks\":\"\"},\"colorscale\":[[0.0,\"#0d0887\"],[0.1111111111111111,\"#46039f\"],[0.2222222222222222,\"#7201a8\"],[0.3333333333333333,\"#9c179e\"],[0.4444444444444444,\"#bd3786\"],[0.5555555555555556,\"#d8576b\"],[0.6666666666666666,\"#ed7953\"],[0.7777777777777778,\"#fb9f3a\"],[0.8888888888888888,\"#fdca26\"],[1.0,\"#f0f921\"]],\"type\":\"surface\"}],\"table\":[{\"cells\":{\"fill\":{\"color\":\"#EBF0F8\"},\"line\":{\"color\":\"white\"}},\"header\":{\"fill\":{\"color\":\"#C8D4E3\"},\"line\":{\"color\":\"white\"}},\"type\":\"table\"}]},\"layout\":{\"annotationdefaults\":{\"arrowcolor\":\"#2a3f5f\",\"arrowhead\":0,\"arrowwidth\":1},\"autotypenumbers\":\"strict\",\"coloraxis\":{\"colorbar\":{\"outlinewidth\":0,\"ticks\":\"\"}},\"colorscale\":{\"diverging\":[[0,\"#8e0152\"],[0.1,\"#c51b7d\"],[0.2,\"#de77ae\"],[0.3,\"#f1b6da\"],[0.4,\"#fde0ef\"],[0.5,\"#f7f7f7\"],[0.6,\"#e6f5d0\"],[0.7,\"#b8e186\"],[0.8,\"#7fbc41\"],[0.9,\"#4d9221\"],[1,\"#276419\"]],\"sequential\":[[0.0,\"#0d0887\"],[0.1111111111111111,\"#46039f\"],[0.2222222222222222,\"#7201a8\"],[0.3333333333333333,\"#9c179e\"],[0.4444444444444444,\"#bd3786\"],[0.5555555555555556,\"#d8576b\"],[0.6666666666666666,\"#ed7953\"],[0.7777777777777778,\"#fb9f3a\"],[0.8888888888888888,\"#fdca26\"],[1.0,\"#f0f921\"]],\"sequentialminus\":[[0.0,\"#0d0887\"],[0.1111111111111111,\"#46039f\"],[0.2222222222222222,\"#7201a8\"],[0.3333333333333333,\"#9c179e\"],[0.4444444444444444,\"#bd3786\"],[0.5555555555555556,\"#d8576b\"],[0.6666666666666666,\"#ed7953\"],[0.7777777777777778,\"#fb9f3a\"],[0.8888888888888888,\"#fdca26\"],[1.0,\"#f0f921\"]]},\"colorway\":[\"#636efa\",\"#EF553B\",\"#00cc96\",\"#ab63fa\",\"#FFA15A\",\"#19d3f3\",\"#FF6692\",\"#B6E880\",\"#FF97FF\",\"#FECB52\"],\"font\":{\"color\":\"#2a3f5f\"},\"geo\":{\"bgcolor\":\"white\",\"lakecolor\":\"white\",\"landcolor\":\"#E5ECF6\",\"showlakes\":true,\"showland\":true,\"subunitcolor\":\"white\"},\"hoverlabel\":{\"align\":\"left\"},\"hovermode\":\"closest\",\"mapbox\":{\"style\":\"light\"},\"paper_bgcolor\":\"white\",\"plot_bgcolor\":\"#E5ECF6\",\"polar\":{\"angularaxis\":{\"gridcolor\":\"white\",\"linecolor\":\"white\",\"ticks\":\"\"},\"bgcolor\":\"#E5ECF6\",\"radialaxis\":{\"gridcolor\":\"white\",\"linecolor\":\"white\",\"ticks\":\"\"}},\"scene\":{\"xaxis\":{\"backgroundcolor\":\"#E5ECF6\",\"gridcolor\":\"white\",\"gridwidth\":2,\"linecolor\":\"white\",\"showbackground\":true,\"ticks\":\"\",\"zerolinecolor\":\"white\"},\"yaxis\":{\"backgroundcolor\":\"#E5ECF6\",\"gridcolor\":\"white\",\"gridwidth\":2,\"linecolor\":\"white\",\"showbackground\":true,\"ticks\":\"\",\"zerolinecolor\":\"white\"},\"zaxis\":{\"backgroundcolor\":\"#E5ECF6\",\"gridcolor\":\"white\",\"gridwidth\":2,\"linecolor\":\"white\",\"showbackground\":true,\"ticks\":\"\",\"zerolinecolor\":\"white\"}},\"shapedefaults\":{\"line\":{\"color\":\"#2a3f5f\"}},\"ternary\":{\"aaxis\":{\"gridcolor\":\"white\",\"linecolor\":\"white\",\"ticks\":\"\"},\"baxis\":{\"gridcolor\":\"white\",\"linecolor\":\"white\",\"ticks\":\"\"},\"bgcolor\":\"#E5ECF6\",\"caxis\":{\"gridcolor\":\"white\",\"linecolor\":\"white\",\"ticks\":\"\"}},\"title\":{\"x\":0.05},\"xaxis\":{\"automargin\":true,\"gridcolor\":\"white\",\"linecolor\":\"white\",\"ticks\":\"\",\"title\":{\"standoff\":15},\"zerolinecolor\":\"white\",\"zerolinewidth\":2},\"yaxis\":{\"automargin\":true,\"gridcolor\":\"white\",\"linecolor\":\"white\",\"ticks\":\"\",\"title\":{\"standoff\":15},\"zerolinecolor\":\"white\",\"zerolinewidth\":2}}}},                        {\"responsive\": true}                    ).then(function(){\n",
       "                            \n",
       "var gd = document.getElementById('7184f669-3be7-43ed-8348-4f5b5b73023b');\n",
       "var x = new MutationObserver(function (mutations, observer) {{\n",
       "        var display = window.getComputedStyle(gd).display;\n",
       "        if (!display || display === 'none') {{\n",
       "            console.log([gd, 'removed!']);\n",
       "            Plotly.purge(gd);\n",
       "            observer.disconnect();\n",
       "        }}\n",
       "}});\n",
       "\n",
       "// Listen for the removal of the full notebook cells\n",
       "var notebookContainer = gd.closest('#notebook-container');\n",
       "if (notebookContainer) {{\n",
       "    x.observe(notebookContainer, {childList: true});\n",
       "}}\n",
       "\n",
       "// Listen for the clearing of the current output cell\n",
       "var outputEl = gd.closest('.output');\n",
       "if (outputEl) {{\n",
       "    x.observe(outputEl, {childList: true});\n",
       "}}\n",
       "\n",
       "                        })                };                });            </script>        </div>"
      ]
     },
     "metadata": {},
     "output_type": "display_data"
    }
   ],
   "source": [
    "fig = go.Figure()\n",
    "\n",
    "fig.add_trace(go.Sunburst(\n",
    "    ids=df_sunburst.id,\n",
    "    labels=df_sunburst.label,\n",
    "    parents=df_sunburst.parent,\n",
    "))\n",
    "\n",
    "fig.show()\n",
    "\n"
   ]
  },
  {
   "cell_type": "code",
   "execution_count": null,
   "id": "80b19f62",
   "metadata": {},
   "outputs": [],
   "source": []
  }
 ],
 "metadata": {
  "kernelspec": {
   "display_name": "Python 3 (ipykernel)",
   "language": "python",
   "name": "python3"
  },
  "language_info": {
   "codemirror_mode": {
    "name": "ipython",
    "version": 3
   },
   "file_extension": ".py",
   "mimetype": "text/x-python",
   "name": "python",
   "nbconvert_exporter": "python",
   "pygments_lexer": "ipython3",
   "version": "3.9.7"
  }
 },
 "nbformat": 4,
 "nbformat_minor": 5
}
