{
 "cells": [
  {
   "cell_type": "code",
   "execution_count": 3,
   "id": "ec7cb1f8",
   "metadata": {},
   "outputs": [
    {
     "name": "stdout",
     "output_type": "stream",
     "text": [
      "Requirement already satisfied: pip in /Users/diogocarapito/opt/anaconda3/lib/python3.9/site-packages (23.0.1)\n",
      "Collecting pip\n",
      "  Downloading pip-23.1-py3-none-any.whl (2.1 MB)\n",
      "\u001b[2K     \u001b[90m━━━━━━━━━━━━━━━━━━━━━━━━━━━━━━━━━━━━━━━━\u001b[0m \u001b[32m2.1/2.1 MB\u001b[0m \u001b[31m4.7 MB/s\u001b[0m eta \u001b[36m0:00:00\u001b[0m00:01\u001b[0m00:01\u001b[0m\n",
      "\u001b[?25hInstalling collected packages: pip\n",
      "  Attempting uninstall: pip\n",
      "    Found existing installation: pip 23.0.1\n",
      "    Uninstalling pip-23.0.1:\n",
      "      Successfully uninstalled pip-23.0.1\n",
      "Successfully installed pip-23.1\n"
     ]
    }
   ],
   "source": [
    "!pip install --upgrade pip"
   ]
  },
  {
   "cell_type": "code",
   "execution_count": 15,
   "id": "d33d70f4",
   "metadata": {},
   "outputs": [
    {
     "name": "stdout",
     "output_type": "stream",
     "text": [
      "Requirement already satisfied: tabula-py in /Users/diogocarapito/opt/anaconda3/lib/python3.9/site-packages (2.7.0)\n",
      "Requirement already satisfied: pandas>=0.25.3 in /Users/diogocarapito/opt/anaconda3/lib/python3.9/site-packages (from tabula-py) (1.5.3)\n",
      "Requirement already satisfied: numpy in /Users/diogocarapito/opt/anaconda3/lib/python3.9/site-packages (from tabula-py) (1.23.5)\n",
      "Requirement already satisfied: distro in /Users/diogocarapito/opt/anaconda3/lib/python3.9/site-packages (from tabula-py) (1.8.0)\n",
      "Requirement already satisfied: python-dateutil>=2.8.1 in /Users/diogocarapito/opt/anaconda3/lib/python3.9/site-packages (from pandas>=0.25.3->tabula-py) (2.8.2)\n",
      "Requirement already satisfied: pytz>=2020.1 in /Users/diogocarapito/opt/anaconda3/lib/python3.9/site-packages (from pandas>=0.25.3->tabula-py) (2022.7)\n",
      "Requirement already satisfied: six>=1.5 in /Users/diogocarapito/opt/anaconda3/lib/python3.9/site-packages (from python-dateutil>=2.8.1->pandas>=0.25.3->tabula-py) (1.16.0)\n"
     ]
    }
   ],
   "source": [
    "!pip install tabula-py\n",
    "\n",
    "import pandas as pd\n",
    "import tabula as tbl\n",
    "import re"
   ]
  },
  {
   "cell_type": "code",
   "execution_count": 13,
   "id": "91898de2",
   "metadata": {},
   "outputs": [],
   "source": [
    "documento = 'Operacionalizacao_CSP_2023_VF.pdf'\n",
    "pages_com_impacto = [60, 61, 62]\n",
    "pages_sem_impacto = [63, 64]"
   ]
  },
  {
   "cell_type": "code",
   "execution_count": 17,
   "id": "35fd039c",
   "metadata": {},
   "outputs": [
    {
     "ename": "AttributeError",
     "evalue": "module 'tabula' has no attribute 'read_pdf'",
     "output_type": "error",
     "traceback": [
      "\u001b[0;31m---------------------------------------------------------------------------\u001b[0m",
      "\u001b[0;31mAttributeError\u001b[0m                            Traceback (most recent call last)",
      "Cell \u001b[0;32mIn[17], line 1\u001b[0m\n\u001b[0;32m----> 1\u001b[0m tabela_com_impacto \u001b[38;5;241m=\u001b[39m \u001b[43mtbl\u001b[49m\u001b[38;5;241;43m.\u001b[39;49m\u001b[43mread_pdf\u001b[49m(documento, pages\u001b[38;5;241m=\u001b[39mpages_com_impacto)\n",
      "\u001b[0;31mAttributeError\u001b[0m: module 'tabula' has no attribute 'read_pdf'"
     ]
    }
   ],
   "source": [
    "tabela_com_impacto = tbl.read_pdf(documento, pages=pages_com_impacto)"
   ]
  },
  {
   "cell_type": "code",
   "execution_count": null,
   "id": "d161120a",
   "metadata": {},
   "outputs": [],
   "source": []
  }
 ],
 "metadata": {
  "kernelspec": {
   "display_name": "Python 3 (ipykernel)",
   "language": "python",
   "name": "python3"
  },
  "language_info": {
   "codemirror_mode": {
    "name": "ipython",
    "version": 3
   },
   "file_extension": ".py",
   "mimetype": "text/x-python",
   "name": "python",
   "nbconvert_exporter": "python",
   "pygments_lexer": "ipython3",
   "version": "3.9.16"
  }
 },
 "nbformat": 4,
 "nbformat_minor": 5
}
