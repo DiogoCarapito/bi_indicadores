{
 "cells": [
  {
   "cell_type": "code",
   "execution_count": 63,
   "metadata": {
    "collapsed": true
   },
   "outputs": [],
   "source": [
    "import pandas as pd\n",
    "import numpy as np\n",
    "import re"
   ]
  },
  {
   "cell_type": "code",
   "execution_count": 106,
   "outputs": [
    {
     "data": {
      "text/plain": "                     Código - ID - Indicador / Médico  Nº Ordem  \\\n0   2013.001.01 FL - Proporção de consultas realiz...     32270   \n1   2013.001.01 FL - Proporção de consultas realiz...     34306   \n2   2013.001.01 FL - Proporção de consultas realiz...     35968   \n3   2013.001.01 FL - Proporção de consultas realiz...     36082   \n4   2013.001.01 FL - Proporção de consultas realiz...     36147   \n5   2013.001.01 FL - Proporção de consultas realiz...     36162   \n6   2013.001.01 FL - Proporção de consultas realiz...     38123   \n7   2013.001.01 FL - Proporção de consultas realiz...     41375   \n8   2013.001.01 FL - Proporção de consultas realiz...     43090   \n9   2013.001.01 FL - Proporção de consultas realiz...     44258   \n10  2013.001.01 FL - Proporção de consultas realiz...     48486   \n11  2013.001.01 FL - Proporção de consultas realiz...     54537   \n12  2013.002.01 FL - Taxa de utilização global de ...     32270   \n13  2013.002.01 FL - Taxa de utilização global de ...     34306   \n14  2013.002.01 FL - Taxa de utilização global de ...     35968   \n15  2013.002.01 FL - Taxa de utilização global de ...     36082   \n16  2013.002.01 FL - Taxa de utilização global de ...     36147   \n17  2013.002.01 FL - Taxa de utilização global de ...     36162   \n18  2013.002.01 FL - Taxa de utilização global de ...     38123   \n19  2013.002.01 FL - Taxa de utilização global de ...     41375   \n\n   '# Métricas Indicador'[Score V2] id        color  \n0                                0+  1     dark_red  \n1                                 2  1        green  \n2                                0+  1     dark_red  \n3                                 2  1        green  \n4                                 2  1        green  \n5                                0+  1     dark_red  \n6                                 2  1        green  \n7                                1+  1  dark_yellow  \n8                                1+  1  dark_yellow  \n9                                 2  1        green  \n10                               0+  1     dark_red  \n11                                2  1        green  \n12                               1-  2       yellow  \n13                               1-  2       yellow  \n14                               1-  2       yellow  \n15                               1-  2       yellow  \n16                               1-  2       yellow  \n17                               0-  2          red  \n18                               0-  2          red  \n19                               1-  2       yellow  ",
      "text/html": "<div>\n<style scoped>\n    .dataframe tbody tr th:only-of-type {\n        vertical-align: middle;\n    }\n\n    .dataframe tbody tr th {\n        vertical-align: top;\n    }\n\n    .dataframe thead th {\n        text-align: right;\n    }\n</style>\n<table border=\"1\" class=\"dataframe\">\n  <thead>\n    <tr style=\"text-align: right;\">\n      <th></th>\n      <th>Código - ID - Indicador / Médico</th>\n      <th>Nº Ordem</th>\n      <th>'# Métricas Indicador'[Score V2]</th>\n      <th>id</th>\n      <th>color</th>\n    </tr>\n  </thead>\n  <tbody>\n    <tr>\n      <th>0</th>\n      <td>2013.001.01 FL - Proporção de consultas realiz...</td>\n      <td>32270</td>\n      <td>0+</td>\n      <td>1</td>\n      <td>dark_red</td>\n    </tr>\n    <tr>\n      <th>1</th>\n      <td>2013.001.01 FL - Proporção de consultas realiz...</td>\n      <td>34306</td>\n      <td>2</td>\n      <td>1</td>\n      <td>green</td>\n    </tr>\n    <tr>\n      <th>2</th>\n      <td>2013.001.01 FL - Proporção de consultas realiz...</td>\n      <td>35968</td>\n      <td>0+</td>\n      <td>1</td>\n      <td>dark_red</td>\n    </tr>\n    <tr>\n      <th>3</th>\n      <td>2013.001.01 FL - Proporção de consultas realiz...</td>\n      <td>36082</td>\n      <td>2</td>\n      <td>1</td>\n      <td>green</td>\n    </tr>\n    <tr>\n      <th>4</th>\n      <td>2013.001.01 FL - Proporção de consultas realiz...</td>\n      <td>36147</td>\n      <td>2</td>\n      <td>1</td>\n      <td>green</td>\n    </tr>\n    <tr>\n      <th>5</th>\n      <td>2013.001.01 FL - Proporção de consultas realiz...</td>\n      <td>36162</td>\n      <td>0+</td>\n      <td>1</td>\n      <td>dark_red</td>\n    </tr>\n    <tr>\n      <th>6</th>\n      <td>2013.001.01 FL - Proporção de consultas realiz...</td>\n      <td>38123</td>\n      <td>2</td>\n      <td>1</td>\n      <td>green</td>\n    </tr>\n    <tr>\n      <th>7</th>\n      <td>2013.001.01 FL - Proporção de consultas realiz...</td>\n      <td>41375</td>\n      <td>1+</td>\n      <td>1</td>\n      <td>dark_yellow</td>\n    </tr>\n    <tr>\n      <th>8</th>\n      <td>2013.001.01 FL - Proporção de consultas realiz...</td>\n      <td>43090</td>\n      <td>1+</td>\n      <td>1</td>\n      <td>dark_yellow</td>\n    </tr>\n    <tr>\n      <th>9</th>\n      <td>2013.001.01 FL - Proporção de consultas realiz...</td>\n      <td>44258</td>\n      <td>2</td>\n      <td>1</td>\n      <td>green</td>\n    </tr>\n    <tr>\n      <th>10</th>\n      <td>2013.001.01 FL - Proporção de consultas realiz...</td>\n      <td>48486</td>\n      <td>0+</td>\n      <td>1</td>\n      <td>dark_red</td>\n    </tr>\n    <tr>\n      <th>11</th>\n      <td>2013.001.01 FL - Proporção de consultas realiz...</td>\n      <td>54537</td>\n      <td>2</td>\n      <td>1</td>\n      <td>green</td>\n    </tr>\n    <tr>\n      <th>12</th>\n      <td>2013.002.01 FL - Taxa de utilização global de ...</td>\n      <td>32270</td>\n      <td>1-</td>\n      <td>2</td>\n      <td>yellow</td>\n    </tr>\n    <tr>\n      <th>13</th>\n      <td>2013.002.01 FL - Taxa de utilização global de ...</td>\n      <td>34306</td>\n      <td>1-</td>\n      <td>2</td>\n      <td>yellow</td>\n    </tr>\n    <tr>\n      <th>14</th>\n      <td>2013.002.01 FL - Taxa de utilização global de ...</td>\n      <td>35968</td>\n      <td>1-</td>\n      <td>2</td>\n      <td>yellow</td>\n    </tr>\n    <tr>\n      <th>15</th>\n      <td>2013.002.01 FL - Taxa de utilização global de ...</td>\n      <td>36082</td>\n      <td>1-</td>\n      <td>2</td>\n      <td>yellow</td>\n    </tr>\n    <tr>\n      <th>16</th>\n      <td>2013.002.01 FL - Taxa de utilização global de ...</td>\n      <td>36147</td>\n      <td>1-</td>\n      <td>2</td>\n      <td>yellow</td>\n    </tr>\n    <tr>\n      <th>17</th>\n      <td>2013.002.01 FL - Taxa de utilização global de ...</td>\n      <td>36162</td>\n      <td>0-</td>\n      <td>2</td>\n      <td>red</td>\n    </tr>\n    <tr>\n      <th>18</th>\n      <td>2013.002.01 FL - Taxa de utilização global de ...</td>\n      <td>38123</td>\n      <td>0-</td>\n      <td>2</td>\n      <td>red</td>\n    </tr>\n    <tr>\n      <th>19</th>\n      <td>2013.002.01 FL - Taxa de utilização global de ...</td>\n      <td>41375</td>\n      <td>1-</td>\n      <td>2</td>\n      <td>yellow</td>\n    </tr>\n  </tbody>\n</table>\n</div>"
     },
     "execution_count": 106,
     "metadata": {},
     "output_type": "execute_result"
    }
   ],
   "source": [
    "df = pd.read_excel('data.xlsx', skiprows=2)\n",
    "\n",
    "reg = '\\.([0-9])*\\.'\n",
    "df_2= pd.DataFrame([re.findall(reg ,row[0]) for index, row in df.iterrows()])\n",
    "\n",
    "df_2.columns = ['id']\n",
    "df = df.join(df_2)\n",
    "\n",
    "colors_coresp = {'0-':'red', '1-':'yellow', '2':'green', '1+':'dark_yellow', '0+':'dark_red'}\n",
    "\n",
    "df['color'] = [colors_coresp[row[2]] for index, row in df.iterrows()]\n",
    "df_2"
   ],
   "metadata": {
    "collapsed": false
   }
  },
  {
   "cell_type": "code",
   "execution_count": 98,
   "outputs": [
    {
     "data": {
      "text/plain": "     id  Nº Ordem '# Métricas Indicador'[Score V2]     color     color  \\\n0     1     32270                               0+  dark_red  dark_red   \n1     1     34306                                2     green     green   \n2     1     35968                               0+  dark_red  dark_red   \n3     1     36082                                2     green     green   \n4     1     36147                                2     green     green   \n...  ..       ...                              ...       ...       ...   \n1236  7     41375                               0-       red       red   \n1237  7     43090                               0+  dark_red  dark_red   \n1238  7     44258                               0-       red       red   \n1239  7     48486                               0-       red       red   \n1240  7     54537                               0-       red       red   \n\n                       Código - ID - Indicador / Médico  \n0     2013.001.01 FL - Proporção de consultas realiz...  \n1     2013.001.01 FL - Proporção de consultas realiz...  \n2     2013.001.01 FL - Proporção de consultas realiz...  \n3     2013.001.01 FL - Proporção de consultas realiz...  \n4     2013.001.01 FL - Proporção de consultas realiz...  \n...                                                 ...  \n1236  2019.427.01 FL - Proporção de grávidas com par...  \n1237  2019.427.01 FL - Proporção de grávidas com par...  \n1238  2019.427.01 FL - Proporção de grávidas com par...  \n1239  2019.427.01 FL - Proporção de grávidas com par...  \n1240  2019.427.01 FL - Proporção de grávidas com par...  \n\n[1241 rows x 6 columns]",
      "text/html": "<div>\n<style scoped>\n    .dataframe tbody tr th:only-of-type {\n        vertical-align: middle;\n    }\n\n    .dataframe tbody tr th {\n        vertical-align: top;\n    }\n\n    .dataframe thead th {\n        text-align: right;\n    }\n</style>\n<table border=\"1\" class=\"dataframe\">\n  <thead>\n    <tr style=\"text-align: right;\">\n      <th></th>\n      <th>id</th>\n      <th>Nº Ordem</th>\n      <th>'# Métricas Indicador'[Score V2]</th>\n      <th>color</th>\n      <th>color</th>\n      <th>Código - ID - Indicador / Médico</th>\n    </tr>\n  </thead>\n  <tbody>\n    <tr>\n      <th>0</th>\n      <td>1</td>\n      <td>32270</td>\n      <td>0+</td>\n      <td>dark_red</td>\n      <td>dark_red</td>\n      <td>2013.001.01 FL - Proporção de consultas realiz...</td>\n    </tr>\n    <tr>\n      <th>1</th>\n      <td>1</td>\n      <td>34306</td>\n      <td>2</td>\n      <td>green</td>\n      <td>green</td>\n      <td>2013.001.01 FL - Proporção de consultas realiz...</td>\n    </tr>\n    <tr>\n      <th>2</th>\n      <td>1</td>\n      <td>35968</td>\n      <td>0+</td>\n      <td>dark_red</td>\n      <td>dark_red</td>\n      <td>2013.001.01 FL - Proporção de consultas realiz...</td>\n    </tr>\n    <tr>\n      <th>3</th>\n      <td>1</td>\n      <td>36082</td>\n      <td>2</td>\n      <td>green</td>\n      <td>green</td>\n      <td>2013.001.01 FL - Proporção de consultas realiz...</td>\n    </tr>\n    <tr>\n      <th>4</th>\n      <td>1</td>\n      <td>36147</td>\n      <td>2</td>\n      <td>green</td>\n      <td>green</td>\n      <td>2013.001.01 FL - Proporção de consultas realiz...</td>\n    </tr>\n    <tr>\n      <th>...</th>\n      <td>...</td>\n      <td>...</td>\n      <td>...</td>\n      <td>...</td>\n      <td>...</td>\n      <td>...</td>\n    </tr>\n    <tr>\n      <th>1236</th>\n      <td>7</td>\n      <td>41375</td>\n      <td>0-</td>\n      <td>red</td>\n      <td>red</td>\n      <td>2019.427.01 FL - Proporção de grávidas com par...</td>\n    </tr>\n    <tr>\n      <th>1237</th>\n      <td>7</td>\n      <td>43090</td>\n      <td>0+</td>\n      <td>dark_red</td>\n      <td>dark_red</td>\n      <td>2019.427.01 FL - Proporção de grávidas com par...</td>\n    </tr>\n    <tr>\n      <th>1238</th>\n      <td>7</td>\n      <td>44258</td>\n      <td>0-</td>\n      <td>red</td>\n      <td>red</td>\n      <td>2019.427.01 FL - Proporção de grávidas com par...</td>\n    </tr>\n    <tr>\n      <th>1239</th>\n      <td>7</td>\n      <td>48486</td>\n      <td>0-</td>\n      <td>red</td>\n      <td>red</td>\n      <td>2019.427.01 FL - Proporção de grávidas com par...</td>\n    </tr>\n    <tr>\n      <th>1240</th>\n      <td>7</td>\n      <td>54537</td>\n      <td>0-</td>\n      <td>red</td>\n      <td>red</td>\n      <td>2019.427.01 FL - Proporção de grávidas com par...</td>\n    </tr>\n  </tbody>\n</table>\n<p>1241 rows × 6 columns</p>\n</div>"
     },
     "execution_count": 98,
     "metadata": {},
     "output_type": "execute_result"
    }
   ],
   "source": [
    "df = df[['id','Nº Ordem','\\'# Métricas Indicador\\'[Score V2]','color', 'color', 'Código - ID - Indicador / Médico']]\n",
    "df"
   ],
   "metadata": {
    "collapsed": false
   }
  }
 ],
 "metadata": {
  "kernelspec": {
   "display_name": "Python 3",
   "language": "python",
   "name": "python3"
  },
  "language_info": {
   "codemirror_mode": {
    "name": "ipython",
    "version": 2
   },
   "file_extension": ".py",
   "mimetype": "text/x-python",
   "name": "python",
   "nbconvert_exporter": "python",
   "pygments_lexer": "ipython2",
   "version": "2.7.6"
  }
 },
 "nbformat": 4,
 "nbformat_minor": 0
}
